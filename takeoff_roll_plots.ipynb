{
 "cells": [
  {
   "cell_type": "code",
   "execution_count": 60,
   "metadata": {},
   "outputs": [],
   "source": [
    "import plotly.express as px\n",
    "import pandas as pd\n",
    "from plotly.subplots import make_subplots\n",
    "import plotly.graph_objects as go\n",
    "from os.path import expanduser\n",
    "import os.path \n",
    "import numpy as np\n",
    "import webbrowser as wb\n",
    "\n",
    "#TODO:\n",
    "# create helper functions: data quality binning\n",
    "#--make a single \"schedule/metadata\" table with the liftoff and start of takeoff points and quality, computation of takeoff roll length\n",
    "\n",
    "home = expanduser(\"~\")\n",
    "filepath = home+'\\OneDrive - DOT OST\\BADA4_Reduced_Thrust_Sensor_Path_Noise_Comparison_main'\n",
    "filename = 'takeoff_distance - no positions.csv'\n",
    "df = pd.read_csv(os.path.join(filepath, filename), index_col=[\"FLIGHT_ID\", \"TIME_OFFSET\"])\n",
    "\n",
    "df_liftoff = pd.DataFrame(df[df.DISTANCE_FROM_RUNWAY_END_AT_DETECTED_LIFTOFF.isna() == False])\n",
    "df_liftoff.reset_index(level = 1, inplace = True)\n",
    "\n",
    "df_rollstart = df[df.DISTANCE_FROM_RUNWAY_END_AT_DETECTED_START_OF_TAKEOFF.isna() == False]\n",
    "df_rollstart.reset_index(level = 1, inplace = True)"
   ]
  },
  {
   "cell_type": "code",
   "execution_count": 61,
   "metadata": {},
   "outputs": [
    {
     "data": {
      "text/plain": [
       "Index(['P64: Duration of Takeoff (Seconds)',\n",
       "       'TIME_ON_GROUND_BEFORE_LIFTOFF_(SECONDS)',\n",
       "       'P64: Duration of Taxi Out (Minutes)', 'DURATION',\n",
       "       'SPEED_SOUND_START_EVENT', 'HEAD_WIND', 'MSL_ALT', 'AFE_ALT',\n",
       "       'TAS_START_EVENT', 'P64: True Airspeed at Liftoff (knots)',\n",
       "       'MACH_NUMBER_START_EVENT', 'GS_SEGMENT', 'TAS_SEGMENT',\n",
       "       'MACH_NUMBER_SEGMENT', 'DRAG', 'LIFT', 'DISTANCE_START_EVENT',\n",
       "       'DISTANCE_END_EVENT', 'FUELFLOW_START_EVENT', 'FUELFLOW_SEGMENT', 'N1',\n",
       "       'THRUST_START_EVENT', 'THRUST_SEGMENT', 'LIFTOFF',\n",
       "       'Takeoff Runway Starting Latitude', 'Takeoff Runway Starting Longitude',\n",
       "       'STATED_SEGMENT_START_OF_TAKEOFF', 'DISTANCE_FROM_RUNWAY_END',\n",
       "       'DISTANCE_FROM_RUNWAY_END_AT_DETECTED_START_OF_TAKEOFF',\n",
       "       'DISTANCE_FROM_RUNWAY_END_AT_DETECTED_LIFTOFF', 'FLIGHT_ID.1',\n",
       "       'APT_AIRCRAFT_RUNWAY_STAGE',\n",
       "       'SHARE_OF_REMAINING_RUNWAY_LENGTH_AT_DETECTED_AIRBORNE_POINT_IN_RUNWAY_VICINITY',\n",
       "       'FEET_OF_REMAINING_RUNWAY_LENGTH_AT_DETECTED_AIRBORNE_POINT_IN_RUNWAY_VICINITY',\n",
       "       'DISTANCE_FROM_RUNWAY_END.1', 'RUNWAY_LENGTH', 'DISPLACED_THRESHOLD',\n",
       "       'DEPARTURE_AIRPORT_CODE', 'ACTYPE', 'RUNWAY_END', 'STAGE_LENGTH_ID',\n",
       "       'EFFECTIVE_RUNWAY_LENGTH',\n",
       "       'SHARE_OF_REMAINING_EFFECTIVE_RUNWAY_LENGTH_AT_DETECTED_AIRBORNE_POINT_IN_RUNWAY_VICINITY',\n",
       "       'FEET_OF_REMAINING_EFFECTIVE_RUNWAY_LENGTH_AT_DETECTED_AIRBORNE_POINT_IN_RUNWAY_VICINITY',\n",
       "       'DISTANCE_FROM_THRESHOLD_AT_POINT_ONE', 'DISTANCE_FROM_POINT_ONE_FEET',\n",
       "       'GROUNDSPEED_AT_POINT_ONE_KNOTS', 'WELL-BEHAVED_TRAJECTORY',\n",
       "       'LATITUDE_AT_POINT_ONE', 'LONGITUDE_AT_POINT_ONE',\n",
       "       'LATITUDE_AT_DETECTED_AIRBORNE_POINT_IN_RUNWAY_VICINITY',\n",
       "       'LONGITUDE_AT_DETECTED_AIRBORNE_POINT_IN_RUNWAY_VICINITY', 'ACTYPE.1',\n",
       "       'APT_AIRCRAFT_RUNWAY_STAGE.1', 'STAGE_LENGTH_ID.1'],\n",
       "      dtype='object')"
      ]
     },
     "execution_count": 61,
     "metadata": {},
     "output_type": "execute_result"
    }
   ],
   "source": [
    "df.columns"
   ]
  },
  {
   "cell_type": "code",
   "execution_count": 62,
   "metadata": {},
   "outputs": [
    {
     "data": {
      "text/html": [
       "<div>\n",
       "<style scoped>\n",
       "    .dataframe tbody tr th:only-of-type {\n",
       "        vertical-align: middle;\n",
       "    }\n",
       "\n",
       "    .dataframe tbody tr th {\n",
       "        vertical-align: top;\n",
       "    }\n",
       "\n",
       "    .dataframe thead th {\n",
       "        text-align: right;\n",
       "    }\n",
       "</style>\n",
       "<table border=\"1\" class=\"dataframe\">\n",
       "  <thead>\n",
       "    <tr style=\"text-align: right;\">\n",
       "      <th></th>\n",
       "      <th></th>\n",
       "      <th>P64: Duration of Takeoff (Seconds)</th>\n",
       "      <th>TIME_ON_GROUND_BEFORE_LIFTOFF_(SECONDS)</th>\n",
       "      <th>P64: Duration of Taxi Out (Minutes)</th>\n",
       "      <th>DURATION</th>\n",
       "      <th>SPEED_SOUND_START_EVENT</th>\n",
       "      <th>HEAD_WIND</th>\n",
       "      <th>MSL_ALT</th>\n",
       "      <th>AFE_ALT</th>\n",
       "      <th>TAS_START_EVENT</th>\n",
       "      <th>P64: True Airspeed at Liftoff (knots)</th>\n",
       "      <th>...</th>\n",
       "      <th>DISTANCE_FROM_POINT_ONE_FEET</th>\n",
       "      <th>GROUNDSPEED_AT_POINT_ONE_KNOTS</th>\n",
       "      <th>WELL-BEHAVED_TRAJECTORY</th>\n",
       "      <th>LATITUDE_AT_POINT_ONE</th>\n",
       "      <th>LONGITUDE_AT_POINT_ONE</th>\n",
       "      <th>LATITUDE_AT_DETECTED_AIRBORNE_POINT_IN_RUNWAY_VICINITY</th>\n",
       "      <th>LONGITUDE_AT_DETECTED_AIRBORNE_POINT_IN_RUNWAY_VICINITY</th>\n",
       "      <th>ACTYPE.1</th>\n",
       "      <th>APT_AIRCRAFT_RUNWAY_STAGE.1</th>\n",
       "      <th>STAGE_LENGTH_ID.1</th>\n",
       "    </tr>\n",
       "    <tr>\n",
       "      <th>FLIGHT_ID</th>\n",
       "      <th>TIME_OFFSET</th>\n",
       "      <th></th>\n",
       "      <th></th>\n",
       "      <th></th>\n",
       "      <th></th>\n",
       "      <th></th>\n",
       "      <th></th>\n",
       "      <th></th>\n",
       "      <th></th>\n",
       "      <th></th>\n",
       "      <th></th>\n",
       "      <th></th>\n",
       "      <th></th>\n",
       "      <th></th>\n",
       "      <th></th>\n",
       "      <th></th>\n",
       "      <th></th>\n",
       "      <th></th>\n",
       "      <th></th>\n",
       "      <th></th>\n",
       "      <th></th>\n",
       "      <th></th>\n",
       "    </tr>\n",
       "  </thead>\n",
       "  <tbody>\n",
       "    <tr>\n",
       "      <th rowspan=\"5\" valign=\"top\">1001880</th>\n",
       "      <th>855</th>\n",
       "      <td>42.375</td>\n",
       "      <td>900</td>\n",
       "      <td>10.3</td>\n",
       "      <td>5</td>\n",
       "      <td>645.224609</td>\n",
       "      <td>0.0</td>\n",
       "      <td>670.75</td>\n",
       "      <td>-2.444625</td>\n",
       "      <td>0.0</td>\n",
       "      <td>157.3125</td>\n",
       "      <td>...</td>\n",
       "      <td>NaN</td>\n",
       "      <td>NaN</td>\n",
       "      <td>NaN</td>\n",
       "      <td>NaN</td>\n",
       "      <td>NaN</td>\n",
       "      <td>NaN</td>\n",
       "      <td>NaN</td>\n",
       "      <td>NaN</td>\n",
       "      <td>NaN</td>\n",
       "      <td>NaN</td>\n",
       "    </tr>\n",
       "    <tr>\n",
       "      <th>856</th>\n",
       "      <td>42.375</td>\n",
       "      <td>900</td>\n",
       "      <td>10.3</td>\n",
       "      <td>5</td>\n",
       "      <td>645.224609</td>\n",
       "      <td>0.0</td>\n",
       "      <td>670.50</td>\n",
       "      <td>-2.443270</td>\n",
       "      <td>0.0</td>\n",
       "      <td>157.3125</td>\n",
       "      <td>...</td>\n",
       "      <td>NaN</td>\n",
       "      <td>NaN</td>\n",
       "      <td>NaN</td>\n",
       "      <td>NaN</td>\n",
       "      <td>NaN</td>\n",
       "      <td>NaN</td>\n",
       "      <td>NaN</td>\n",
       "      <td>NaN</td>\n",
       "      <td>NaN</td>\n",
       "      <td>NaN</td>\n",
       "    </tr>\n",
       "    <tr>\n",
       "      <th>857</th>\n",
       "      <td>42.375</td>\n",
       "      <td>900</td>\n",
       "      <td>10.3</td>\n",
       "      <td>5</td>\n",
       "      <td>645.224609</td>\n",
       "      <td>0.0</td>\n",
       "      <td>669.75</td>\n",
       "      <td>-2.441950</td>\n",
       "      <td>0.0</td>\n",
       "      <td>157.3125</td>\n",
       "      <td>...</td>\n",
       "      <td>NaN</td>\n",
       "      <td>NaN</td>\n",
       "      <td>NaN</td>\n",
       "      <td>NaN</td>\n",
       "      <td>NaN</td>\n",
       "      <td>NaN</td>\n",
       "      <td>NaN</td>\n",
       "      <td>NaN</td>\n",
       "      <td>NaN</td>\n",
       "      <td>NaN</td>\n",
       "    </tr>\n",
       "    <tr>\n",
       "      <th>858</th>\n",
       "      <td>42.375</td>\n",
       "      <td>900</td>\n",
       "      <td>10.3</td>\n",
       "      <td>5</td>\n",
       "      <td>645.224609</td>\n",
       "      <td>0.0</td>\n",
       "      <td>669.75</td>\n",
       "      <td>-2.440629</td>\n",
       "      <td>0.0</td>\n",
       "      <td>157.3125</td>\n",
       "      <td>...</td>\n",
       "      <td>NaN</td>\n",
       "      <td>NaN</td>\n",
       "      <td>NaN</td>\n",
       "      <td>NaN</td>\n",
       "      <td>NaN</td>\n",
       "      <td>NaN</td>\n",
       "      <td>NaN</td>\n",
       "      <td>NaN</td>\n",
       "      <td>NaN</td>\n",
       "      <td>NaN</td>\n",
       "    </tr>\n",
       "    <tr>\n",
       "      <th>859</th>\n",
       "      <td>42.375</td>\n",
       "      <td>900</td>\n",
       "      <td>10.3</td>\n",
       "      <td>1</td>\n",
       "      <td>645.224609</td>\n",
       "      <td>0.0</td>\n",
       "      <td>669.50</td>\n",
       "      <td>-2.470281</td>\n",
       "      <td>0.0</td>\n",
       "      <td>157.3125</td>\n",
       "      <td>...</td>\n",
       "      <td>NaN</td>\n",
       "      <td>NaN</td>\n",
       "      <td>NaN</td>\n",
       "      <td>NaN</td>\n",
       "      <td>NaN</td>\n",
       "      <td>NaN</td>\n",
       "      <td>NaN</td>\n",
       "      <td>NaN</td>\n",
       "      <td>NaN</td>\n",
       "      <td>NaN</td>\n",
       "    </tr>\n",
       "  </tbody>\n",
       "</table>\n",
       "<p>5 rows × 55 columns</p>\n",
       "</div>"
      ],
      "text/plain": [
       "                       P64: Duration of Takeoff (Seconds)  \\\n",
       "FLIGHT_ID TIME_OFFSET                                       \n",
       "1001880   855                                      42.375   \n",
       "          856                                      42.375   \n",
       "          857                                      42.375   \n",
       "          858                                      42.375   \n",
       "          859                                      42.375   \n",
       "\n",
       "                       TIME_ON_GROUND_BEFORE_LIFTOFF_(SECONDS)  \\\n",
       "FLIGHT_ID TIME_OFFSET                                            \n",
       "1001880   855                                              900   \n",
       "          856                                              900   \n",
       "          857                                              900   \n",
       "          858                                              900   \n",
       "          859                                              900   \n",
       "\n",
       "                       P64: Duration of Taxi Out (Minutes)  DURATION  \\\n",
       "FLIGHT_ID TIME_OFFSET                                                  \n",
       "1001880   855                                         10.3         5   \n",
       "          856                                         10.3         5   \n",
       "          857                                         10.3         5   \n",
       "          858                                         10.3         5   \n",
       "          859                                         10.3         1   \n",
       "\n",
       "                       SPEED_SOUND_START_EVENT  HEAD_WIND  MSL_ALT   AFE_ALT  \\\n",
       "FLIGHT_ID TIME_OFFSET                                                          \n",
       "1001880   855                       645.224609        0.0   670.75 -2.444625   \n",
       "          856                       645.224609        0.0   670.50 -2.443270   \n",
       "          857                       645.224609        0.0   669.75 -2.441950   \n",
       "          858                       645.224609        0.0   669.75 -2.440629   \n",
       "          859                       645.224609        0.0   669.50 -2.470281   \n",
       "\n",
       "                       TAS_START_EVENT  P64: True Airspeed at Liftoff (knots)  \\\n",
       "FLIGHT_ID TIME_OFFSET                                                           \n",
       "1001880   855                      0.0                               157.3125   \n",
       "          856                      0.0                               157.3125   \n",
       "          857                      0.0                               157.3125   \n",
       "          858                      0.0                               157.3125   \n",
       "          859                      0.0                               157.3125   \n",
       "\n",
       "                       ...  DISTANCE_FROM_POINT_ONE_FEET  \\\n",
       "FLIGHT_ID TIME_OFFSET  ...                                 \n",
       "1001880   855          ...                           NaN   \n",
       "          856          ...                           NaN   \n",
       "          857          ...                           NaN   \n",
       "          858          ...                           NaN   \n",
       "          859          ...                           NaN   \n",
       "\n",
       "                       GROUNDSPEED_AT_POINT_ONE_KNOTS  \\\n",
       "FLIGHT_ID TIME_OFFSET                                   \n",
       "1001880   855                                     NaN   \n",
       "          856                                     NaN   \n",
       "          857                                     NaN   \n",
       "          858                                     NaN   \n",
       "          859                                     NaN   \n",
       "\n",
       "                       WELL-BEHAVED_TRAJECTORY  LATITUDE_AT_POINT_ONE  \\\n",
       "FLIGHT_ID TIME_OFFSET                                                   \n",
       "1001880   855                              NaN                    NaN   \n",
       "          856                              NaN                    NaN   \n",
       "          857                              NaN                    NaN   \n",
       "          858                              NaN                    NaN   \n",
       "          859                              NaN                    NaN   \n",
       "\n",
       "                       LONGITUDE_AT_POINT_ONE  \\\n",
       "FLIGHT_ID TIME_OFFSET                           \n",
       "1001880   855                             NaN   \n",
       "          856                             NaN   \n",
       "          857                             NaN   \n",
       "          858                             NaN   \n",
       "          859                             NaN   \n",
       "\n",
       "                       LATITUDE_AT_DETECTED_AIRBORNE_POINT_IN_RUNWAY_VICINITY  \\\n",
       "FLIGHT_ID TIME_OFFSET                                                           \n",
       "1001880   855                                                        NaN        \n",
       "          856                                                        NaN        \n",
       "          857                                                        NaN        \n",
       "          858                                                        NaN        \n",
       "          859                                                        NaN        \n",
       "\n",
       "                       LONGITUDE_AT_DETECTED_AIRBORNE_POINT_IN_RUNWAY_VICINITY  \\\n",
       "FLIGHT_ID TIME_OFFSET                                                            \n",
       "1001880   855                                                        NaN         \n",
       "          856                                                        NaN         \n",
       "          857                                                        NaN         \n",
       "          858                                                        NaN         \n",
       "          859                                                        NaN         \n",
       "\n",
       "                       ACTYPE.1  APT_AIRCRAFT_RUNWAY_STAGE.1  \\\n",
       "FLIGHT_ID TIME_OFFSET                                          \n",
       "1001880   855               NaN                          NaN   \n",
       "          856               NaN                          NaN   \n",
       "          857               NaN                          NaN   \n",
       "          858               NaN                          NaN   \n",
       "          859               NaN                          NaN   \n",
       "\n",
       "                       STAGE_LENGTH_ID.1  \n",
       "FLIGHT_ID TIME_OFFSET                     \n",
       "1001880   855                        NaN  \n",
       "          856                        NaN  \n",
       "          857                        NaN  \n",
       "          858                        NaN  \n",
       "          859                        NaN  \n",
       "\n",
       "[5 rows x 55 columns]"
      ]
     },
     "execution_count": 62,
     "metadata": {},
     "output_type": "execute_result"
    }
   ],
   "source": [
    "df.head()"
   ]
  },
  {
   "cell_type": "code",
   "execution_count": 63,
   "metadata": {},
   "outputs": [],
   "source": [
    "salient_rollstart_col_list = ['DISTANCE_FROM_THRESHOLD_AT_POINT_ONE', 'DISTANCE_FROM_POINT_ONE_FEET',\n",
    "       'GROUNDSPEED_AT_POINT_ONE_KNOTS', 'WELL-BEHAVED_TRAJECTORY',\n",
    "       'LATITUDE_AT_POINT_ONE', 'LONGITUDE_AT_POINT_ONE','STATED_SEGMENT_START_OF_TAKEOFF',\n",
    "       'DISTANCE_FROM_RUNWAY_END_AT_DETECTED_START_OF_TAKEOFF']\n",
    "extraneous_schedule_columns_list = [col for col in df_rollstart.columns if col not in salient_rollstart_col_list + [\"DISTANCE_FROM_RUNWAY_END\"]]\n",
    "\n"
   ]
  },
  {
   "cell_type": "code",
   "execution_count": 64,
   "metadata": {},
   "outputs": [],
   "source": [
    "df_schedule = df_liftoff.drop(salient_rollstart_col_list, axis = 1).join(\n",
    "    df_rollstart.drop(\n",
    "        columns = extraneous_schedule_columns_list, axis = 1\n",
    "    )\n",
    "    , how = 'left'\n",
    "    , lsuffix = '_liftoff' \n",
    "    , rsuffix = '_rollstart'\n",
    ")"
   ]
  },
  {
   "cell_type": "markdown",
   "metadata": {},
   "source": [
    " len(df[df[\"WELL-BEHAVED_TRAJECTORY\"] == 1]) rows in the sample are well-behaved"
   ]
  },
  {
   "cell_type": "code",
   "execution_count": 65,
   "metadata": {},
   "outputs": [],
   "source": [
    "df_schedule[\"liftoff_detection_quality\"] = abs(df_liftoff.DISTANCE_FROM_RUNWAY_END_AT_DETECTED_LIFTOFF - df_liftoff.DISTANCE_FROM_RUNWAY_END) / df_liftoff.DISTANCE_FROM_RUNWAY_END \n",
    "#instantiate bins for grouping on the quality of liftoff detection\n",
    "liftoff_detection_quality_bins = [0, 0.01] #, 0.05, 0.1, 1]\n",
    "df_schedule[\"very_high_liftoff_detection_quality\"] = df_schedule[\"liftoff_detection_quality\"].between(liftoff_detection_quality_bins[0], liftoff_detection_quality_bins[1]) == True\n",
    "flights_with_very_high_liftoff_detection_quality = df_schedule[df_schedule.very_high_liftoff_detection_quality == True].index.to_series()"
   ]
  },
  {
   "cell_type": "code",
   "execution_count": 67,
   "metadata": {},
   "outputs": [
    {
     "name": "stdout",
     "output_type": "stream",
     "text": [
      "C:\\Users\\Lyle.Tripp\\OneDrive - DOT OST\\BADA4_Reduced_Thrust_Sensor_Path_Noise_Comparison_main\\plotbook.html\n"
     ]
    },
    {
     "data": {
      "text/plain": [
       "True"
      ]
     },
     "execution_count": 67,
     "metadata": {},
     "output_type": "execute_result"
    }
   ],
   "source": [
    "df_high_qual_lift = df.join(flights_with_very_high_liftoff_detection_quality,how = 'inner')\n",
    "fp = plot_metrics_for_individual_flights(df_high_qual_lift, -1)\n",
    "wb.open(url=fp)"
   ]
  },
  {
   "cell_type": "code",
   "execution_count": 83,
   "metadata": {},
   "outputs": [],
   "source": [
    "df_schedule = df_schedule.loc[[1124373, 1128101],:]"
   ]
  },
  {
   "cell_type": "code",
   "execution_count": 84,
   "metadata": {
    "scrolled": false
   },
   "outputs": [
    {
     "data": {
      "application/vnd.plotly.v1+json": {
       "config": {
        "plotlyServerURL": "https://plot.ly"
       },
       "data": [
        {
         "customdata": [
          [
           1124373
          ],
          [
           1128101
          ]
         ],
         "hovertemplate": "Airport / Aicraft Type / Runway / Stage Length ID=ORD_A330_32R_6<br>As stated in CFDR=%{x}<br>As detected from trajectory=%{y}<br>FLIGHT_ID=%{customdata[0]}<extra></extra>",
         "legendgroup": "ORD_A330_32R_6",
         "marker": {
          "color": "#636efa",
          "symbol": "circle"
         },
         "mode": "markers",
         "name": "ORD_A330_32R_6",
         "orientation": "v",
         "showlegend": true,
         "type": "scatter",
         "x": [
          6382.5253299999995,
          6349.922856
         ],
         "xaxis": "x",
         "y": [
          6381.394949,
          6659.505581
         ],
         "yaxis": "y"
        },
        {
         "line": {
          "color": "black",
          "dash": "dash"
         },
         "mode": "lines",
         "name": "Perfect Fit",
         "opacity": 0.4,
         "type": "scatter",
         "x": [
          6349.922856,
          6659.505581
         ],
         "y": [
          6349.922856,
          6659.505581
         ]
        },
        {
         "line": {
          "color": "black",
          "dash": "longdash"
         },
         "mode": "lines",
         "name": "Perfect Fit + 275 ft",
         "opacity": 0.4,
         "type": "scatter",
         "x": [
          6349.922856,
          6659.505581
         ],
         "y": [
          6624.922856,
          6934.505581
         ]
        },
        {
         "line": {
          "color": "black",
          "dash": "longdashdot"
         },
         "mode": "lines",
         "name": "Perfect Fit + 550 ft",
         "opacity": 0.4,
         "type": "scatter",
         "x": [
          6349.922856,
          6659.505581
         ],
         "y": [
          6899.922856,
          7209.505581
         ]
        }
       ],
       "layout": {
        "legend": {
         "title": {
          "text": "Airport / Aicraft Type / Runway / Stage Length ID"
         },
         "tracegroupgap": 0
        },
        "template": {
         "data": {
          "bar": [
           {
            "error_x": {
             "color": "#2a3f5f"
            },
            "error_y": {
             "color": "#2a3f5f"
            },
            "marker": {
             "line": {
              "color": "#E5ECF6",
              "width": 0.5
             }
            },
            "type": "bar"
           }
          ],
          "barpolar": [
           {
            "marker": {
             "line": {
              "color": "#E5ECF6",
              "width": 0.5
             }
            },
            "type": "barpolar"
           }
          ],
          "carpet": [
           {
            "aaxis": {
             "endlinecolor": "#2a3f5f",
             "gridcolor": "white",
             "linecolor": "white",
             "minorgridcolor": "white",
             "startlinecolor": "#2a3f5f"
            },
            "baxis": {
             "endlinecolor": "#2a3f5f",
             "gridcolor": "white",
             "linecolor": "white",
             "minorgridcolor": "white",
             "startlinecolor": "#2a3f5f"
            },
            "type": "carpet"
           }
          ],
          "choropleth": [
           {
            "colorbar": {
             "outlinewidth": 0,
             "ticks": ""
            },
            "type": "choropleth"
           }
          ],
          "contour": [
           {
            "colorbar": {
             "outlinewidth": 0,
             "ticks": ""
            },
            "colorscale": [
             [
              0,
              "#0d0887"
             ],
             [
              0.1111111111111111,
              "#46039f"
             ],
             [
              0.2222222222222222,
              "#7201a8"
             ],
             [
              0.3333333333333333,
              "#9c179e"
             ],
             [
              0.4444444444444444,
              "#bd3786"
             ],
             [
              0.5555555555555556,
              "#d8576b"
             ],
             [
              0.6666666666666666,
              "#ed7953"
             ],
             [
              0.7777777777777778,
              "#fb9f3a"
             ],
             [
              0.8888888888888888,
              "#fdca26"
             ],
             [
              1,
              "#f0f921"
             ]
            ],
            "type": "contour"
           }
          ],
          "contourcarpet": [
           {
            "colorbar": {
             "outlinewidth": 0,
             "ticks": ""
            },
            "type": "contourcarpet"
           }
          ],
          "heatmap": [
           {
            "colorbar": {
             "outlinewidth": 0,
             "ticks": ""
            },
            "colorscale": [
             [
              0,
              "#0d0887"
             ],
             [
              0.1111111111111111,
              "#46039f"
             ],
             [
              0.2222222222222222,
              "#7201a8"
             ],
             [
              0.3333333333333333,
              "#9c179e"
             ],
             [
              0.4444444444444444,
              "#bd3786"
             ],
             [
              0.5555555555555556,
              "#d8576b"
             ],
             [
              0.6666666666666666,
              "#ed7953"
             ],
             [
              0.7777777777777778,
              "#fb9f3a"
             ],
             [
              0.8888888888888888,
              "#fdca26"
             ],
             [
              1,
              "#f0f921"
             ]
            ],
            "type": "heatmap"
           }
          ],
          "heatmapgl": [
           {
            "colorbar": {
             "outlinewidth": 0,
             "ticks": ""
            },
            "colorscale": [
             [
              0,
              "#0d0887"
             ],
             [
              0.1111111111111111,
              "#46039f"
             ],
             [
              0.2222222222222222,
              "#7201a8"
             ],
             [
              0.3333333333333333,
              "#9c179e"
             ],
             [
              0.4444444444444444,
              "#bd3786"
             ],
             [
              0.5555555555555556,
              "#d8576b"
             ],
             [
              0.6666666666666666,
              "#ed7953"
             ],
             [
              0.7777777777777778,
              "#fb9f3a"
             ],
             [
              0.8888888888888888,
              "#fdca26"
             ],
             [
              1,
              "#f0f921"
             ]
            ],
            "type": "heatmapgl"
           }
          ],
          "histogram": [
           {
            "marker": {
             "colorbar": {
              "outlinewidth": 0,
              "ticks": ""
             }
            },
            "type": "histogram"
           }
          ],
          "histogram2d": [
           {
            "colorbar": {
             "outlinewidth": 0,
             "ticks": ""
            },
            "colorscale": [
             [
              0,
              "#0d0887"
             ],
             [
              0.1111111111111111,
              "#46039f"
             ],
             [
              0.2222222222222222,
              "#7201a8"
             ],
             [
              0.3333333333333333,
              "#9c179e"
             ],
             [
              0.4444444444444444,
              "#bd3786"
             ],
             [
              0.5555555555555556,
              "#d8576b"
             ],
             [
              0.6666666666666666,
              "#ed7953"
             ],
             [
              0.7777777777777778,
              "#fb9f3a"
             ],
             [
              0.8888888888888888,
              "#fdca26"
             ],
             [
              1,
              "#f0f921"
             ]
            ],
            "type": "histogram2d"
           }
          ],
          "histogram2dcontour": [
           {
            "colorbar": {
             "outlinewidth": 0,
             "ticks": ""
            },
            "colorscale": [
             [
              0,
              "#0d0887"
             ],
             [
              0.1111111111111111,
              "#46039f"
             ],
             [
              0.2222222222222222,
              "#7201a8"
             ],
             [
              0.3333333333333333,
              "#9c179e"
             ],
             [
              0.4444444444444444,
              "#bd3786"
             ],
             [
              0.5555555555555556,
              "#d8576b"
             ],
             [
              0.6666666666666666,
              "#ed7953"
             ],
             [
              0.7777777777777778,
              "#fb9f3a"
             ],
             [
              0.8888888888888888,
              "#fdca26"
             ],
             [
              1,
              "#f0f921"
             ]
            ],
            "type": "histogram2dcontour"
           }
          ],
          "mesh3d": [
           {
            "colorbar": {
             "outlinewidth": 0,
             "ticks": ""
            },
            "type": "mesh3d"
           }
          ],
          "parcoords": [
           {
            "line": {
             "colorbar": {
              "outlinewidth": 0,
              "ticks": ""
             }
            },
            "type": "parcoords"
           }
          ],
          "pie": [
           {
            "automargin": true,
            "type": "pie"
           }
          ],
          "scatter": [
           {
            "marker": {
             "colorbar": {
              "outlinewidth": 0,
              "ticks": ""
             }
            },
            "type": "scatter"
           }
          ],
          "scatter3d": [
           {
            "line": {
             "colorbar": {
              "outlinewidth": 0,
              "ticks": ""
             }
            },
            "marker": {
             "colorbar": {
              "outlinewidth": 0,
              "ticks": ""
             }
            },
            "type": "scatter3d"
           }
          ],
          "scattercarpet": [
           {
            "marker": {
             "colorbar": {
              "outlinewidth": 0,
              "ticks": ""
             }
            },
            "type": "scattercarpet"
           }
          ],
          "scattergeo": [
           {
            "marker": {
             "colorbar": {
              "outlinewidth": 0,
              "ticks": ""
             }
            },
            "type": "scattergeo"
           }
          ],
          "scattergl": [
           {
            "marker": {
             "colorbar": {
              "outlinewidth": 0,
              "ticks": ""
             }
            },
            "type": "scattergl"
           }
          ],
          "scattermapbox": [
           {
            "marker": {
             "colorbar": {
              "outlinewidth": 0,
              "ticks": ""
             }
            },
            "type": "scattermapbox"
           }
          ],
          "scatterpolar": [
           {
            "marker": {
             "colorbar": {
              "outlinewidth": 0,
              "ticks": ""
             }
            },
            "type": "scatterpolar"
           }
          ],
          "scatterpolargl": [
           {
            "marker": {
             "colorbar": {
              "outlinewidth": 0,
              "ticks": ""
             }
            },
            "type": "scatterpolargl"
           }
          ],
          "scatterternary": [
           {
            "marker": {
             "colorbar": {
              "outlinewidth": 0,
              "ticks": ""
             }
            },
            "type": "scatterternary"
           }
          ],
          "surface": [
           {
            "colorbar": {
             "outlinewidth": 0,
             "ticks": ""
            },
            "colorscale": [
             [
              0,
              "#0d0887"
             ],
             [
              0.1111111111111111,
              "#46039f"
             ],
             [
              0.2222222222222222,
              "#7201a8"
             ],
             [
              0.3333333333333333,
              "#9c179e"
             ],
             [
              0.4444444444444444,
              "#bd3786"
             ],
             [
              0.5555555555555556,
              "#d8576b"
             ],
             [
              0.6666666666666666,
              "#ed7953"
             ],
             [
              0.7777777777777778,
              "#fb9f3a"
             ],
             [
              0.8888888888888888,
              "#fdca26"
             ],
             [
              1,
              "#f0f921"
             ]
            ],
            "type": "surface"
           }
          ],
          "table": [
           {
            "cells": {
             "fill": {
              "color": "#EBF0F8"
             },
             "line": {
              "color": "white"
             }
            },
            "header": {
             "fill": {
              "color": "#C8D4E3"
             },
             "line": {
              "color": "white"
             }
            },
            "type": "table"
           }
          ]
         },
         "layout": {
          "annotationdefaults": {
           "arrowcolor": "#2a3f5f",
           "arrowhead": 0,
           "arrowwidth": 1
          },
          "coloraxis": {
           "colorbar": {
            "outlinewidth": 0,
            "ticks": ""
           }
          },
          "colorscale": {
           "diverging": [
            [
             0,
             "#8e0152"
            ],
            [
             0.1,
             "#c51b7d"
            ],
            [
             0.2,
             "#de77ae"
            ],
            [
             0.3,
             "#f1b6da"
            ],
            [
             0.4,
             "#fde0ef"
            ],
            [
             0.5,
             "#f7f7f7"
            ],
            [
             0.6,
             "#e6f5d0"
            ],
            [
             0.7,
             "#b8e186"
            ],
            [
             0.8,
             "#7fbc41"
            ],
            [
             0.9,
             "#4d9221"
            ],
            [
             1,
             "#276419"
            ]
           ],
           "sequential": [
            [
             0,
             "#0d0887"
            ],
            [
             0.1111111111111111,
             "#46039f"
            ],
            [
             0.2222222222222222,
             "#7201a8"
            ],
            [
             0.3333333333333333,
             "#9c179e"
            ],
            [
             0.4444444444444444,
             "#bd3786"
            ],
            [
             0.5555555555555556,
             "#d8576b"
            ],
            [
             0.6666666666666666,
             "#ed7953"
            ],
            [
             0.7777777777777778,
             "#fb9f3a"
            ],
            [
             0.8888888888888888,
             "#fdca26"
            ],
            [
             1,
             "#f0f921"
            ]
           ],
           "sequentialminus": [
            [
             0,
             "#0d0887"
            ],
            [
             0.1111111111111111,
             "#46039f"
            ],
            [
             0.2222222222222222,
             "#7201a8"
            ],
            [
             0.3333333333333333,
             "#9c179e"
            ],
            [
             0.4444444444444444,
             "#bd3786"
            ],
            [
             0.5555555555555556,
             "#d8576b"
            ],
            [
             0.6666666666666666,
             "#ed7953"
            ],
            [
             0.7777777777777778,
             "#fb9f3a"
            ],
            [
             0.8888888888888888,
             "#fdca26"
            ],
            [
             1,
             "#f0f921"
            ]
           ]
          },
          "colorway": [
           "#636efa",
           "#EF553B",
           "#00cc96",
           "#ab63fa",
           "#FFA15A",
           "#19d3f3",
           "#FF6692",
           "#B6E880",
           "#FF97FF",
           "#FECB52"
          ],
          "font": {
           "color": "#2a3f5f"
          },
          "geo": {
           "bgcolor": "white",
           "lakecolor": "white",
           "landcolor": "#E5ECF6",
           "showlakes": true,
           "showland": true,
           "subunitcolor": "white"
          },
          "hoverlabel": {
           "align": "left"
          },
          "hovermode": "closest",
          "mapbox": {
           "style": "light"
          },
          "paper_bgcolor": "white",
          "plot_bgcolor": "#E5ECF6",
          "polar": {
           "angularaxis": {
            "gridcolor": "white",
            "linecolor": "white",
            "ticks": ""
           },
           "bgcolor": "#E5ECF6",
           "radialaxis": {
            "gridcolor": "white",
            "linecolor": "white",
            "ticks": ""
           }
          },
          "scene": {
           "xaxis": {
            "backgroundcolor": "#E5ECF6",
            "gridcolor": "white",
            "gridwidth": 2,
            "linecolor": "white",
            "showbackground": true,
            "ticks": "",
            "zerolinecolor": "white"
           },
           "yaxis": {
            "backgroundcolor": "#E5ECF6",
            "gridcolor": "white",
            "gridwidth": 2,
            "linecolor": "white",
            "showbackground": true,
            "ticks": "",
            "zerolinecolor": "white"
           },
           "zaxis": {
            "backgroundcolor": "#E5ECF6",
            "gridcolor": "white",
            "gridwidth": 2,
            "linecolor": "white",
            "showbackground": true,
            "ticks": "",
            "zerolinecolor": "white"
           }
          },
          "shapedefaults": {
           "line": {
            "color": "#2a3f5f"
           }
          },
          "ternary": {
           "aaxis": {
            "gridcolor": "white",
            "linecolor": "white",
            "ticks": ""
           },
           "baxis": {
            "gridcolor": "white",
            "linecolor": "white",
            "ticks": ""
           },
           "bgcolor": "#E5ECF6",
           "caxis": {
            "gridcolor": "white",
            "linecolor": "white",
            "ticks": ""
           }
          },
          "title": {
           "x": 0.05
          },
          "xaxis": {
           "automargin": true,
           "gridcolor": "white",
           "linecolor": "white",
           "ticks": "",
           "title": {
            "standoff": 15
           },
           "zerolinecolor": "white",
           "zerolinewidth": 2
          },
          "yaxis": {
           "automargin": true,
           "gridcolor": "white",
           "linecolor": "white",
           "ticks": "",
           "title": {
            "standoff": 15
           },
           "zerolinecolor": "white",
           "zerolinewidth": 2
          }
         }
        },
        "title": {
         "text": "Liftoff distance from runway end (feet)"
        },
        "xaxis": {
         "anchor": "y",
         "domain": [
          0,
          1
         ],
         "title": {
          "text": "As stated in CFDR"
         }
        },
        "yaxis": {
         "anchor": "x",
         "domain": [
          0,
          1
         ],
         "scaleratio": 1,
         "title": {
          "text": "As detected from trajectory"
         }
        }
       }
      },
      "text/html": [
       "<div>                            <div id=\"0e8a1c1f-53c8-45b2-b5bc-866549238734\" class=\"plotly-graph-div\" style=\"height:525px; width:100%;\"></div>            <script type=\"text/javascript\">                require([\"plotly\"], function(Plotly) {                    window.PLOTLYENV=window.PLOTLYENV || {};                                    if (document.getElementById(\"0e8a1c1f-53c8-45b2-b5bc-866549238734\")) {                    Plotly.newPlot(                        \"0e8a1c1f-53c8-45b2-b5bc-866549238734\",                        [{\"customdata\": [[1124373], [1128101]], \"hovertemplate\": \"Airport / Aicraft Type / Runway / Stage Length ID=ORD_A330_32R_6<br>As stated in CFDR=%{x}<br>As detected from trajectory=%{y}<br>FLIGHT_ID=%{customdata[0]}<extra></extra>\", \"legendgroup\": \"ORD_A330_32R_6\", \"marker\": {\"color\": \"#636efa\", \"symbol\": \"circle\"}, \"mode\": \"markers\", \"name\": \"ORD_A330_32R_6\", \"orientation\": \"v\", \"showlegend\": true, \"type\": \"scatter\", \"x\": [6382.5253299999995, 6349.922856], \"xaxis\": \"x\", \"y\": [6381.394949, 6659.505581], \"yaxis\": \"y\"}, {\"line\": {\"color\": \"black\", \"dash\": \"dash\"}, \"mode\": \"lines\", \"name\": \"Perfect Fit\", \"opacity\": 0.4, \"type\": \"scatter\", \"x\": [6349.922856, 6659.505581], \"y\": [6349.922856, 6659.505581]}, {\"line\": {\"color\": \"black\", \"dash\": \"longdash\"}, \"mode\": \"lines\", \"name\": \"Perfect Fit + 275 ft\", \"opacity\": 0.4, \"type\": \"scatter\", \"x\": [6349.922856, 6659.505581], \"y\": [6624.922856, 6934.505581]}, {\"line\": {\"color\": \"black\", \"dash\": \"longdashdot\"}, \"mode\": \"lines\", \"name\": \"Perfect Fit + 550 ft\", \"opacity\": 0.4, \"type\": \"scatter\", \"x\": [6349.922856, 6659.505581], \"y\": [6899.922856, 7209.505581]}],                        {\"legend\": {\"title\": {\"text\": \"Airport / Aicraft Type / Runway / Stage Length ID\"}, \"tracegroupgap\": 0}, \"template\": {\"data\": {\"bar\": [{\"error_x\": {\"color\": \"#2a3f5f\"}, \"error_y\": {\"color\": \"#2a3f5f\"}, \"marker\": {\"line\": {\"color\": \"#E5ECF6\", \"width\": 0.5}}, \"type\": \"bar\"}], \"barpolar\": [{\"marker\": {\"line\": {\"color\": \"#E5ECF6\", \"width\": 0.5}}, \"type\": \"barpolar\"}], \"carpet\": [{\"aaxis\": {\"endlinecolor\": \"#2a3f5f\", \"gridcolor\": \"white\", \"linecolor\": \"white\", \"minorgridcolor\": \"white\", \"startlinecolor\": \"#2a3f5f\"}, \"baxis\": {\"endlinecolor\": \"#2a3f5f\", \"gridcolor\": \"white\", \"linecolor\": \"white\", \"minorgridcolor\": \"white\", \"startlinecolor\": \"#2a3f5f\"}, \"type\": \"carpet\"}], \"choropleth\": [{\"colorbar\": {\"outlinewidth\": 0, \"ticks\": \"\"}, \"type\": \"choropleth\"}], \"contour\": [{\"colorbar\": {\"outlinewidth\": 0, \"ticks\": \"\"}, \"colorscale\": [[0.0, \"#0d0887\"], [0.1111111111111111, \"#46039f\"], [0.2222222222222222, \"#7201a8\"], [0.3333333333333333, \"#9c179e\"], [0.4444444444444444, \"#bd3786\"], [0.5555555555555556, \"#d8576b\"], [0.6666666666666666, \"#ed7953\"], [0.7777777777777778, \"#fb9f3a\"], [0.8888888888888888, \"#fdca26\"], [1.0, \"#f0f921\"]], \"type\": \"contour\"}], \"contourcarpet\": [{\"colorbar\": {\"outlinewidth\": 0, \"ticks\": \"\"}, \"type\": \"contourcarpet\"}], \"heatmap\": [{\"colorbar\": {\"outlinewidth\": 0, \"ticks\": \"\"}, \"colorscale\": [[0.0, \"#0d0887\"], [0.1111111111111111, \"#46039f\"], [0.2222222222222222, \"#7201a8\"], [0.3333333333333333, \"#9c179e\"], [0.4444444444444444, \"#bd3786\"], [0.5555555555555556, \"#d8576b\"], [0.6666666666666666, \"#ed7953\"], [0.7777777777777778, \"#fb9f3a\"], [0.8888888888888888, \"#fdca26\"], [1.0, \"#f0f921\"]], \"type\": \"heatmap\"}], \"heatmapgl\": [{\"colorbar\": {\"outlinewidth\": 0, \"ticks\": \"\"}, \"colorscale\": [[0.0, \"#0d0887\"], [0.1111111111111111, \"#46039f\"], [0.2222222222222222, \"#7201a8\"], [0.3333333333333333, \"#9c179e\"], [0.4444444444444444, \"#bd3786\"], [0.5555555555555556, \"#d8576b\"], [0.6666666666666666, \"#ed7953\"], [0.7777777777777778, \"#fb9f3a\"], [0.8888888888888888, \"#fdca26\"], [1.0, \"#f0f921\"]], \"type\": \"heatmapgl\"}], \"histogram\": [{\"marker\": {\"colorbar\": {\"outlinewidth\": 0, \"ticks\": \"\"}}, \"type\": \"histogram\"}], \"histogram2d\": [{\"colorbar\": {\"outlinewidth\": 0, \"ticks\": \"\"}, \"colorscale\": [[0.0, \"#0d0887\"], [0.1111111111111111, \"#46039f\"], [0.2222222222222222, \"#7201a8\"], [0.3333333333333333, \"#9c179e\"], [0.4444444444444444, \"#bd3786\"], [0.5555555555555556, \"#d8576b\"], [0.6666666666666666, \"#ed7953\"], [0.7777777777777778, \"#fb9f3a\"], [0.8888888888888888, \"#fdca26\"], [1.0, \"#f0f921\"]], \"type\": \"histogram2d\"}], \"histogram2dcontour\": [{\"colorbar\": {\"outlinewidth\": 0, \"ticks\": \"\"}, \"colorscale\": [[0.0, \"#0d0887\"], [0.1111111111111111, \"#46039f\"], [0.2222222222222222, \"#7201a8\"], [0.3333333333333333, \"#9c179e\"], [0.4444444444444444, \"#bd3786\"], [0.5555555555555556, \"#d8576b\"], [0.6666666666666666, \"#ed7953\"], [0.7777777777777778, \"#fb9f3a\"], [0.8888888888888888, \"#fdca26\"], [1.0, \"#f0f921\"]], \"type\": \"histogram2dcontour\"}], \"mesh3d\": [{\"colorbar\": {\"outlinewidth\": 0, \"ticks\": \"\"}, \"type\": \"mesh3d\"}], \"parcoords\": [{\"line\": {\"colorbar\": {\"outlinewidth\": 0, \"ticks\": \"\"}}, \"type\": \"parcoords\"}], \"pie\": [{\"automargin\": true, \"type\": \"pie\"}], \"scatter\": [{\"marker\": {\"colorbar\": {\"outlinewidth\": 0, \"ticks\": \"\"}}, \"type\": \"scatter\"}], \"scatter3d\": [{\"line\": {\"colorbar\": {\"outlinewidth\": 0, \"ticks\": \"\"}}, \"marker\": {\"colorbar\": {\"outlinewidth\": 0, \"ticks\": \"\"}}, \"type\": \"scatter3d\"}], \"scattercarpet\": [{\"marker\": {\"colorbar\": {\"outlinewidth\": 0, \"ticks\": \"\"}}, \"type\": \"scattercarpet\"}], \"scattergeo\": [{\"marker\": {\"colorbar\": {\"outlinewidth\": 0, \"ticks\": \"\"}}, \"type\": \"scattergeo\"}], \"scattergl\": [{\"marker\": {\"colorbar\": {\"outlinewidth\": 0, \"ticks\": \"\"}}, \"type\": \"scattergl\"}], \"scattermapbox\": [{\"marker\": {\"colorbar\": {\"outlinewidth\": 0, \"ticks\": \"\"}}, \"type\": \"scattermapbox\"}], \"scatterpolar\": [{\"marker\": {\"colorbar\": {\"outlinewidth\": 0, \"ticks\": \"\"}}, \"type\": \"scatterpolar\"}], \"scatterpolargl\": [{\"marker\": {\"colorbar\": {\"outlinewidth\": 0, \"ticks\": \"\"}}, \"type\": \"scatterpolargl\"}], \"scatterternary\": [{\"marker\": {\"colorbar\": {\"outlinewidth\": 0, \"ticks\": \"\"}}, \"type\": \"scatterternary\"}], \"surface\": [{\"colorbar\": {\"outlinewidth\": 0, \"ticks\": \"\"}, \"colorscale\": [[0.0, \"#0d0887\"], [0.1111111111111111, \"#46039f\"], [0.2222222222222222, \"#7201a8\"], [0.3333333333333333, \"#9c179e\"], [0.4444444444444444, \"#bd3786\"], [0.5555555555555556, \"#d8576b\"], [0.6666666666666666, \"#ed7953\"], [0.7777777777777778, \"#fb9f3a\"], [0.8888888888888888, \"#fdca26\"], [1.0, \"#f0f921\"]], \"type\": \"surface\"}], \"table\": [{\"cells\": {\"fill\": {\"color\": \"#EBF0F8\"}, \"line\": {\"color\": \"white\"}}, \"header\": {\"fill\": {\"color\": \"#C8D4E3\"}, \"line\": {\"color\": \"white\"}}, \"type\": \"table\"}]}, \"layout\": {\"annotationdefaults\": {\"arrowcolor\": \"#2a3f5f\", \"arrowhead\": 0, \"arrowwidth\": 1}, \"coloraxis\": {\"colorbar\": {\"outlinewidth\": 0, \"ticks\": \"\"}}, \"colorscale\": {\"diverging\": [[0, \"#8e0152\"], [0.1, \"#c51b7d\"], [0.2, \"#de77ae\"], [0.3, \"#f1b6da\"], [0.4, \"#fde0ef\"], [0.5, \"#f7f7f7\"], [0.6, \"#e6f5d0\"], [0.7, \"#b8e186\"], [0.8, \"#7fbc41\"], [0.9, \"#4d9221\"], [1, \"#276419\"]], \"sequential\": [[0.0, \"#0d0887\"], [0.1111111111111111, \"#46039f\"], [0.2222222222222222, \"#7201a8\"], [0.3333333333333333, \"#9c179e\"], [0.4444444444444444, \"#bd3786\"], [0.5555555555555556, \"#d8576b\"], [0.6666666666666666, \"#ed7953\"], [0.7777777777777778, \"#fb9f3a\"], [0.8888888888888888, \"#fdca26\"], [1.0, \"#f0f921\"]], \"sequentialminus\": [[0.0, \"#0d0887\"], [0.1111111111111111, \"#46039f\"], [0.2222222222222222, \"#7201a8\"], [0.3333333333333333, \"#9c179e\"], [0.4444444444444444, \"#bd3786\"], [0.5555555555555556, \"#d8576b\"], [0.6666666666666666, \"#ed7953\"], [0.7777777777777778, \"#fb9f3a\"], [0.8888888888888888, \"#fdca26\"], [1.0, \"#f0f921\"]]}, \"colorway\": [\"#636efa\", \"#EF553B\", \"#00cc96\", \"#ab63fa\", \"#FFA15A\", \"#19d3f3\", \"#FF6692\", \"#B6E880\", \"#FF97FF\", \"#FECB52\"], \"font\": {\"color\": \"#2a3f5f\"}, \"geo\": {\"bgcolor\": \"white\", \"lakecolor\": \"white\", \"landcolor\": \"#E5ECF6\", \"showlakes\": true, \"showland\": true, \"subunitcolor\": \"white\"}, \"hoverlabel\": {\"align\": \"left\"}, \"hovermode\": \"closest\", \"mapbox\": {\"style\": \"light\"}, \"paper_bgcolor\": \"white\", \"plot_bgcolor\": \"#E5ECF6\", \"polar\": {\"angularaxis\": {\"gridcolor\": \"white\", \"linecolor\": \"white\", \"ticks\": \"\"}, \"bgcolor\": \"#E5ECF6\", \"radialaxis\": {\"gridcolor\": \"white\", \"linecolor\": \"white\", \"ticks\": \"\"}}, \"scene\": {\"xaxis\": {\"backgroundcolor\": \"#E5ECF6\", \"gridcolor\": \"white\", \"gridwidth\": 2, \"linecolor\": \"white\", \"showbackground\": true, \"ticks\": \"\", \"zerolinecolor\": \"white\"}, \"yaxis\": {\"backgroundcolor\": \"#E5ECF6\", \"gridcolor\": \"white\", \"gridwidth\": 2, \"linecolor\": \"white\", \"showbackground\": true, \"ticks\": \"\", \"zerolinecolor\": \"white\"}, \"zaxis\": {\"backgroundcolor\": \"#E5ECF6\", \"gridcolor\": \"white\", \"gridwidth\": 2, \"linecolor\": \"white\", \"showbackground\": true, \"ticks\": \"\", \"zerolinecolor\": \"white\"}}, \"shapedefaults\": {\"line\": {\"color\": \"#2a3f5f\"}}, \"ternary\": {\"aaxis\": {\"gridcolor\": \"white\", \"linecolor\": \"white\", \"ticks\": \"\"}, \"baxis\": {\"gridcolor\": \"white\", \"linecolor\": \"white\", \"ticks\": \"\"}, \"bgcolor\": \"#E5ECF6\", \"caxis\": {\"gridcolor\": \"white\", \"linecolor\": \"white\", \"ticks\": \"\"}}, \"title\": {\"x\": 0.05}, \"xaxis\": {\"automargin\": true, \"gridcolor\": \"white\", \"linecolor\": \"white\", \"ticks\": \"\", \"title\": {\"standoff\": 15}, \"zerolinecolor\": \"white\", \"zerolinewidth\": 2}, \"yaxis\": {\"automargin\": true, \"gridcolor\": \"white\", \"linecolor\": \"white\", \"ticks\": \"\", \"title\": {\"standoff\": 15}, \"zerolinecolor\": \"white\", \"zerolinewidth\": 2}}}, \"title\": {\"text\": \"Liftoff distance from runway end (feet)\"}, \"xaxis\": {\"anchor\": \"y\", \"domain\": [0.0, 1.0], \"title\": {\"text\": \"As stated in CFDR\"}}, \"yaxis\": {\"anchor\": \"x\", \"domain\": [0.0, 1.0], \"scaleratio\": 1, \"title\": {\"text\": \"As detected from trajectory\"}}},                        {\"responsive\": true}                    ).then(function(){\n",
       "                            \n",
       "var gd = document.getElementById('0e8a1c1f-53c8-45b2-b5bc-866549238734');\n",
       "var x = new MutationObserver(function (mutations, observer) {{\n",
       "        var display = window.getComputedStyle(gd).display;\n",
       "        if (!display || display === 'none') {{\n",
       "            console.log([gd, 'removed!']);\n",
       "            Plotly.purge(gd);\n",
       "            observer.disconnect();\n",
       "        }}\n",
       "}});\n",
       "\n",
       "// Listen for the removal of the full notebook cells\n",
       "var notebookContainer = gd.closest('#notebook-container');\n",
       "if (notebookContainer) {{\n",
       "    x.observe(notebookContainer, {childList: true});\n",
       "}}\n",
       "\n",
       "// Listen for the clearing of the current output cell\n",
       "var outputEl = gd.closest('.output');\n",
       "if (outputEl) {{\n",
       "    x.observe(outputEl, {childList: true});\n",
       "}}\n",
       "\n",
       "                        })                };                });            </script>        </div>"
      ]
     },
     "metadata": {},
     "output_type": "display_data"
    }
   ],
   "source": [
    "x_max = stated_max = df_schedule.DISTANCE_FROM_RUNWAY_END_liftoff.max()\n",
    "x_min = stated_min = df_schedule.DISTANCE_FROM_RUNWAY_END_liftoff.min()\n",
    "y_max = detected_max = df_schedule.DISTANCE_FROM_RUNWAY_END_AT_DETECTED_LIFTOFF.max()\n",
    "y_min = detected_min = df_schedule.DISTANCE_FROM_RUNWAY_END_AT_DETECTED_LIFTOFF.min()\n",
    "\n",
    "perfect_fit_min = x_min if x_min < y_min else y_min\n",
    "perfect_fit_max = x_max if x_max > y_max else y_max\n",
    "\n",
    "fig = px.scatter(\n",
    "    df_schedule.reset_index(level = 0)\n",
    "    , title='Liftoff distance from runway end (feet)'\n",
    "    , x='DISTANCE_FROM_RUNWAY_END_liftoff'\n",
    "    ,y='DISTANCE_FROM_RUNWAY_END_AT_DETECTED_LIFTOFF'\n",
    "    , color=\"APT_AIRCRAFT_RUNWAY_STAGE.1\" \n",
    "    , labels = {'DISTANCE_FROM_RUNWAY_END_liftoff':'As stated in CFDR',\n",
    "                'DISTANCE_FROM_RUNWAY_END_AT_DETECTED_LIFTOFF':'As detected from trajectory',\n",
    "                'APT_AIRCRAFT_RUNWAY_STAGE.1': 'Airport / Aicraft Type / Runway / Stage Length ID'\n",
    "               }\n",
    "    , hover_data= ['FLIGHT_ID']#, 'DISTANCE_FROM_RUNWAY_END', 'DISTANCE_FROM_RUNWAY_END_AT_DETECTED_LIFTOFF']\n",
    ")\n",
    "\n",
    "fig.add_trace(\n",
    "    go.Scatter(\n",
    "        x = [perfect_fit_min, perfect_fit_max]\n",
    "        , y = [perfect_fit_min, perfect_fit_max]\n",
    "        , mode = \"lines\"\n",
    "        , name = 'Perfect Fit'\n",
    "        , line = go.scatter.Line(color = 'black', dash = 'dash')\n",
    "        , opacity=0.4\n",
    "    )\n",
    ")\n",
    "\n",
    "fig.add_trace(\n",
    "    go.Scatter(\n",
    "        x = [perfect_fit_min, perfect_fit_max]\n",
    "        , y = [perfect_fit_min+275, perfect_fit_max+275]\n",
    "        , mode = \"lines\"\n",
    "        , name = 'Perfect Fit + 275 ft'\n",
    "        , line = go.scatter.Line(color = 'black', dash = 'longdash')\n",
    "        , opacity=0.4\n",
    "    )\n",
    "\n",
    ")\n",
    "\n",
    "fig.add_trace(\n",
    "    go.Scatter(\n",
    "        x = [perfect_fit_min, perfect_fit_max]\n",
    "        , y = [perfect_fit_min+550, perfect_fit_max+550]\n",
    "        , mode = \"lines\"\n",
    "        , name = 'Perfect Fit + 550 ft'\n",
    "        , line = go.scatter.Line(color = 'black', dash = 'longdashdot')\n",
    "        , opacity=0.4\n",
    "    )\n",
    "\n",
    ")\n",
    "\n",
    "fig.update_yaxes(\n",
    "#     scaleanchor = \"x\",\n",
    "    scaleratio = 1,\n",
    "  )\n",
    "\n",
    "fig.show()\n",
    "\n",
    "file = fig.to_html()\n",
    "with open(filepath+'\\plot_liftoff.html', 'w') as f:\n",
    "    f.write(file)\n",
    "    "
   ]
  },
  {
   "cell_type": "code",
   "execution_count": 101,
   "metadata": {},
   "outputs": [
    {
     "name": "stdout",
     "output_type": "stream",
     "text": [
      "C:\\Users\\Lyle.Tripp\\OneDrive - DOT OST\\BADA4_Reduced_Thrust_Sensor_Path_Noise_Comparison_main\\plotbook_10.html\n"
     ]
    },
    {
     "data": {
      "text/plain": [
       "'C:\\\\Users\\\\Lyle.Tripp\\\\OneDrive - DOT OST\\\\BADA4_Reduced_Thrust_Sensor_Path_Noise_Comparison_main\\\\plotbook_10.html'"
      ]
     },
     "execution_count": 101,
     "metadata": {},
     "output_type": "execute_result"
    }
   ],
   "source": [
    "#two flights with similar stated liftoff point \n",
    "flights = [1128101, 1124373]\n",
    "plot_metrics_for_individual_flights(df.loc[flights,])\n"
   ]
  },
  {
   "cell_type": "code",
   "execution_count": 98,
   "metadata": {},
   "outputs": [
    {
     "data": {
      "text/plain": [
       "Index(['P64: Duration of Takeoff (Seconds)',\n",
       "       'TIME_ON_GROUND_BEFORE_LIFTOFF_(SECONDS)',\n",
       "       'P64: Duration of Taxi Out (Minutes)', 'DURATION',\n",
       "       'SPEED_SOUND_START_EVENT', 'HEAD_WIND', 'MSL_ALT', 'AFE_ALT',\n",
       "       'TAS_START_EVENT', 'P64: True Airspeed at Liftoff (knots)',\n",
       "       'MACH_NUMBER_START_EVENT', 'GS_SEGMENT', 'TAS_SEGMENT',\n",
       "       'MACH_NUMBER_SEGMENT', 'DRAG', 'LIFT', 'DISTANCE_START_EVENT',\n",
       "       'DISTANCE_END_EVENT', 'FUELFLOW_START_EVENT', 'FUELFLOW_SEGMENT', 'N1',\n",
       "       'THRUST_START_EVENT', 'THRUST_SEGMENT', 'LIFTOFF',\n",
       "       'Takeoff Runway Starting Latitude', 'Takeoff Runway Starting Longitude',\n",
       "       'STATED_SEGMENT_START_OF_TAKEOFF', 'DISTANCE_FROM_RUNWAY_END',\n",
       "       'DISTANCE_FROM_RUNWAY_END_AT_DETECTED_START_OF_TAKEOFF',\n",
       "       'DISTANCE_FROM_RUNWAY_END_AT_DETECTED_LIFTOFF', 'FLIGHT_ID.1',\n",
       "       'APT_AIRCRAFT_RUNWAY_STAGE',\n",
       "       'SHARE_OF_REMAINING_RUNWAY_LENGTH_AT_DETECTED_AIRBORNE_POINT_IN_RUNWAY_VICINITY',\n",
       "       'FEET_OF_REMAINING_RUNWAY_LENGTH_AT_DETECTED_AIRBORNE_POINT_IN_RUNWAY_VICINITY',\n",
       "       'DISTANCE_FROM_RUNWAY_END.1', 'RUNWAY_LENGTH', 'DISPLACED_THRESHOLD',\n",
       "       'DEPARTURE_AIRPORT_CODE', 'ACTYPE', 'RUNWAY_END', 'STAGE_LENGTH_ID',\n",
       "       'EFFECTIVE_RUNWAY_LENGTH',\n",
       "       'SHARE_OF_REMAINING_EFFECTIVE_RUNWAY_LENGTH_AT_DETECTED_AIRBORNE_POINT_IN_RUNWAY_VICINITY',\n",
       "       'FEET_OF_REMAINING_EFFECTIVE_RUNWAY_LENGTH_AT_DETECTED_AIRBORNE_POINT_IN_RUNWAY_VICINITY',\n",
       "       'DISTANCE_FROM_THRESHOLD_AT_POINT_ONE', 'DISTANCE_FROM_POINT_ONE_FEET',\n",
       "       'GROUNDSPEED_AT_POINT_ONE_KNOTS', 'WELL-BEHAVED_TRAJECTORY',\n",
       "       'LATITUDE_AT_POINT_ONE', 'LONGITUDE_AT_POINT_ONE',\n",
       "       'LATITUDE_AT_DETECTED_AIRBORNE_POINT_IN_RUNWAY_VICINITY',\n",
       "       'LONGITUDE_AT_DETECTED_AIRBORNE_POINT_IN_RUNWAY_VICINITY', 'ACTYPE.1',\n",
       "       'APT_AIRCRAFT_RUNWAY_STAGE.1', 'STAGE_LENGTH_ID.1'],\n",
       "      dtype='object')"
      ]
     },
     "execution_count": 98,
     "metadata": {},
     "output_type": "execute_result"
    }
   ],
   "source": [
    "df.columns"
   ]
  },
  {
   "cell_type": "code",
   "execution_count": null,
   "metadata": {},
   "outputs": [],
   "source": [
    "fig = px.scatter(\n",
    "    df_rollstart\n",
    "    , title='Start of takeoff roll, distance from runway end (feet)'\n",
    "    , x='DISTANCE_FROM_RUNWAY_END'\n",
    "    , y='DISTANCE_FROM_RUNWAY_END_AT_DETECTED_START_OF_TAKEOFF'\n",
    "    , color=\"APT_AIRCRAFT_RUNWAY_STAGE\" \n",
    "    , labels = {'DISTANCE_FROM_RUNWAY_END':'As stated in CFDR',\n",
    "                'DISTANCE_FROM_RUNWAY_END_AT_DETECTED_START_OF_TAKEOFF':'As detected from trajectory',\n",
    "                'APT_AIRCRAFT_RUNWAY_STAGE': 'Airport / Aicraft Type / Runway / Stage Length ID'\n",
    "               }\n",
    ")\n",
    "\n",
    "fig.update_yaxes(\n",
    "    scaleanchor = \"x\",\n",
    "    scaleratio = 1,\n",
    "  )\n",
    "\n",
    "fig.show()\n",
    "\n",
    "file = fig.to_html()\n",
    "with open(filepath+'\\plot_rollstart.html', 'w') as f:\n",
    "    f.write(file)"
   ]
  },
  {
   "cell_type": "code",
   "execution_count": null,
   "metadata": {},
   "outputs": [],
   "source": [
    "fig_px = px.scatter(\n",
    "    df_plot\n",
    "    , title='Liftoff distance from runway end (feet)'\n",
    "    , x='DISTANCE_FROM_RUNWAY_END'\n",
    "    ,y='MSL_ALT'\n",
    "    , color = \"FLIGHT_ID\"\n",
    "    , labels = {'DISTANCE_FROM_RUNWAY_END':'Distance from runway end (feet)',\n",
    "                'MSL_ALT':'Altitude above mean sea level (feet)',\n",
    "                'APT_AIRCRAFT_RUNWAY_STAGE.1': 'Airport / Aicraft Type / Runway / Stage Length ID'\n",
    "               }\n",
    ")\n",
    "\n",
    "file = fig_px.to_html()\n",
    "with open(filepath+'\\plot_high_quality_by_flight.html', 'w') as f:\n",
    "    f.write(file)\n",
    "    \n",
    "fig_px.show()"
   ]
  },
  {
   "cell_type": "code",
   "execution_count": 74,
   "metadata": {},
   "outputs": [
    {
     "ename": "KeyError",
     "evalue": "1001898",
     "output_type": "error",
     "traceback": [
      "\u001b[1;31m---------------------------------------------------------------------------\u001b[0m",
      "\u001b[1;31mKeyError\u001b[0m                                  Traceback (most recent call last)",
      "\u001b[1;32mC:\\ProgramData\\Anaconda3\\lib\\site-packages\\pandas\\core\\indexes\\base.py\u001b[0m in \u001b[0;36mget_loc\u001b[1;34m(self, key, method, tolerance)\u001b[0m\n\u001b[0;32m   2645\u001b[0m             \u001b[1;32mtry\u001b[0m\u001b[1;33m:\u001b[0m\u001b[1;33m\u001b[0m\u001b[1;33m\u001b[0m\u001b[0m\n\u001b[1;32m-> 2646\u001b[1;33m                 \u001b[1;32mreturn\u001b[0m \u001b[0mself\u001b[0m\u001b[1;33m.\u001b[0m\u001b[0m_engine\u001b[0m\u001b[1;33m.\u001b[0m\u001b[0mget_loc\u001b[0m\u001b[1;33m(\u001b[0m\u001b[0mkey\u001b[0m\u001b[1;33m)\u001b[0m\u001b[1;33m\u001b[0m\u001b[1;33m\u001b[0m\u001b[0m\n\u001b[0m\u001b[0;32m   2647\u001b[0m             \u001b[1;32mexcept\u001b[0m \u001b[0mKeyError\u001b[0m\u001b[1;33m:\u001b[0m\u001b[1;33m\u001b[0m\u001b[1;33m\u001b[0m\u001b[0m\n",
      "\u001b[1;32mpandas\\_libs\\index.pyx\u001b[0m in \u001b[0;36mpandas._libs.index.IndexEngine.get_loc\u001b[1;34m()\u001b[0m\n",
      "\u001b[1;32mpandas\\_libs\\index.pyx\u001b[0m in \u001b[0;36mpandas._libs.index.IndexEngine.get_loc\u001b[1;34m()\u001b[0m\n",
      "\u001b[1;32mpandas\\_libs\\hashtable_class_helper.pxi\u001b[0m in \u001b[0;36mpandas._libs.hashtable.Int64HashTable.get_item\u001b[1;34m()\u001b[0m\n",
      "\u001b[1;32mpandas\\_libs\\hashtable_class_helper.pxi\u001b[0m in \u001b[0;36mpandas._libs.hashtable.Int64HashTable.get_item\u001b[1;34m()\u001b[0m\n",
      "\u001b[1;31mKeyError\u001b[0m: 1001898",
      "\nDuring handling of the above exception, another exception occurred:\n",
      "\u001b[1;31mKeyError\u001b[0m                                  Traceback (most recent call last)",
      "\u001b[1;32m<ipython-input-74-519e7e02abac>\u001b[0m in \u001b[0;36m<module>\u001b[1;34m\u001b[0m\n\u001b[1;32m----> 1\u001b[1;33m \u001b[0mplot_metrics_for_individual_flights\u001b[0m\u001b[1;33m(\u001b[0m\u001b[0mdf\u001b[0m\u001b[1;33m,\u001b[0m \u001b[1;36m2\u001b[0m\u001b[1;33m)\u001b[0m\u001b[1;33m\u001b[0m\u001b[1;33m\u001b[0m\u001b[0m\n\u001b[0m",
      "\u001b[1;32m<ipython-input-72-aa98fcb76110>\u001b[0m in \u001b[0;36mplot_metrics_for_individual_flights\u001b[1;34m(dataframe, flight_sample_size)\u001b[0m\n\u001b[0;32m     48\u001b[0m     \u001b[1;31m#         fig.update_yaxes({}, row=metrics.index(m)+1, col=1)\u001b[0m\u001b[1;33m\u001b[0m\u001b[1;33m\u001b[0m\u001b[1;33m\u001b[0m\u001b[0m\n\u001b[0;32m     49\u001b[0m \u001b[1;33m\u001b[0m\u001b[0m\n\u001b[1;32m---> 50\u001b[1;33m             \u001b[0mdl_cgtd\u001b[0m \u001b[1;33m=\u001b[0m \u001b[0mdetected_liftoff_cumul_grnd_trk_dist\u001b[0m \u001b[1;33m=\u001b[0m \u001b[0mdf_liftoff\u001b[0m\u001b[1;33m.\u001b[0m\u001b[0mloc\u001b[0m\u001b[1;33m[\u001b[0m\u001b[0mflight\u001b[0m\u001b[1;33m,\u001b[0m\u001b[1;34m\"DISTANCE_FROM_RUNWAY_END_AT_DETECTED_LIFTOFF\"\u001b[0m\u001b[1;33m]\u001b[0m\u001b[1;33m\u001b[0m\u001b[1;33m\u001b[0m\u001b[0m\n\u001b[0m\u001b[0;32m     51\u001b[0m             fig.add_trace(\n\u001b[0;32m     52\u001b[0m                 go.Scatter(\n",
      "\u001b[1;32mC:\\ProgramData\\Anaconda3\\lib\\site-packages\\pandas\\core\\indexing.py\u001b[0m in \u001b[0;36m__getitem__\u001b[1;34m(self, key)\u001b[0m\n\u001b[0;32m   1760\u001b[0m                 \u001b[1;32mexcept\u001b[0m \u001b[1;33m(\u001b[0m\u001b[0mKeyError\u001b[0m\u001b[1;33m,\u001b[0m \u001b[0mIndexError\u001b[0m\u001b[1;33m,\u001b[0m \u001b[0mAttributeError\u001b[0m\u001b[1;33m)\u001b[0m\u001b[1;33m:\u001b[0m\u001b[1;33m\u001b[0m\u001b[1;33m\u001b[0m\u001b[0m\n\u001b[0;32m   1761\u001b[0m                     \u001b[1;32mpass\u001b[0m\u001b[1;33m\u001b[0m\u001b[1;33m\u001b[0m\u001b[0m\n\u001b[1;32m-> 1762\u001b[1;33m             \u001b[1;32mreturn\u001b[0m \u001b[0mself\u001b[0m\u001b[1;33m.\u001b[0m\u001b[0m_getitem_tuple\u001b[0m\u001b[1;33m(\u001b[0m\u001b[0mkey\u001b[0m\u001b[1;33m)\u001b[0m\u001b[1;33m\u001b[0m\u001b[1;33m\u001b[0m\u001b[0m\n\u001b[0m\u001b[0;32m   1763\u001b[0m         \u001b[1;32melse\u001b[0m\u001b[1;33m:\u001b[0m\u001b[1;33m\u001b[0m\u001b[1;33m\u001b[0m\u001b[0m\n\u001b[0;32m   1764\u001b[0m             \u001b[1;31m# we by definition only have the 0th axis\u001b[0m\u001b[1;33m\u001b[0m\u001b[1;33m\u001b[0m\u001b[1;33m\u001b[0m\u001b[0m\n",
      "\u001b[1;32mC:\\ProgramData\\Anaconda3\\lib\\site-packages\\pandas\\core\\indexing.py\u001b[0m in \u001b[0;36m_getitem_tuple\u001b[1;34m(self, tup)\u001b[0m\n\u001b[0;32m   1270\u001b[0m     \u001b[1;32mdef\u001b[0m \u001b[0m_getitem_tuple\u001b[0m\u001b[1;33m(\u001b[0m\u001b[0mself\u001b[0m\u001b[1;33m,\u001b[0m \u001b[0mtup\u001b[0m\u001b[1;33m:\u001b[0m \u001b[0mTuple\u001b[0m\u001b[1;33m)\u001b[0m\u001b[1;33m:\u001b[0m\u001b[1;33m\u001b[0m\u001b[1;33m\u001b[0m\u001b[0m\n\u001b[0;32m   1271\u001b[0m         \u001b[1;32mtry\u001b[0m\u001b[1;33m:\u001b[0m\u001b[1;33m\u001b[0m\u001b[1;33m\u001b[0m\u001b[0m\n\u001b[1;32m-> 1272\u001b[1;33m             \u001b[1;32mreturn\u001b[0m \u001b[0mself\u001b[0m\u001b[1;33m.\u001b[0m\u001b[0m_getitem_lowerdim\u001b[0m\u001b[1;33m(\u001b[0m\u001b[0mtup\u001b[0m\u001b[1;33m)\u001b[0m\u001b[1;33m\u001b[0m\u001b[1;33m\u001b[0m\u001b[0m\n\u001b[0m\u001b[0;32m   1273\u001b[0m         \u001b[1;32mexcept\u001b[0m \u001b[0mIndexingError\u001b[0m\u001b[1;33m:\u001b[0m\u001b[1;33m\u001b[0m\u001b[1;33m\u001b[0m\u001b[0m\n\u001b[0;32m   1274\u001b[0m             \u001b[1;32mpass\u001b[0m\u001b[1;33m\u001b[0m\u001b[1;33m\u001b[0m\u001b[0m\n",
      "\u001b[1;32mC:\\ProgramData\\Anaconda3\\lib\\site-packages\\pandas\\core\\indexing.py\u001b[0m in \u001b[0;36m_getitem_lowerdim\u001b[1;34m(self, tup)\u001b[0m\n\u001b[0;32m   1387\u001b[0m         \u001b[1;32mfor\u001b[0m \u001b[0mi\u001b[0m\u001b[1;33m,\u001b[0m \u001b[0mkey\u001b[0m \u001b[1;32min\u001b[0m \u001b[0menumerate\u001b[0m\u001b[1;33m(\u001b[0m\u001b[0mtup\u001b[0m\u001b[1;33m)\u001b[0m\u001b[1;33m:\u001b[0m\u001b[1;33m\u001b[0m\u001b[1;33m\u001b[0m\u001b[0m\n\u001b[0;32m   1388\u001b[0m             \u001b[1;32mif\u001b[0m \u001b[0mis_label_like\u001b[0m\u001b[1;33m(\u001b[0m\u001b[0mkey\u001b[0m\u001b[1;33m)\u001b[0m \u001b[1;32mor\u001b[0m \u001b[0misinstance\u001b[0m\u001b[1;33m(\u001b[0m\u001b[0mkey\u001b[0m\u001b[1;33m,\u001b[0m \u001b[0mtuple\u001b[0m\u001b[1;33m)\u001b[0m\u001b[1;33m:\u001b[0m\u001b[1;33m\u001b[0m\u001b[1;33m\u001b[0m\u001b[0m\n\u001b[1;32m-> 1389\u001b[1;33m                 \u001b[0msection\u001b[0m \u001b[1;33m=\u001b[0m \u001b[0mself\u001b[0m\u001b[1;33m.\u001b[0m\u001b[0m_getitem_axis\u001b[0m\u001b[1;33m(\u001b[0m\u001b[0mkey\u001b[0m\u001b[1;33m,\u001b[0m \u001b[0maxis\u001b[0m\u001b[1;33m=\u001b[0m\u001b[0mi\u001b[0m\u001b[1;33m)\u001b[0m\u001b[1;33m\u001b[0m\u001b[1;33m\u001b[0m\u001b[0m\n\u001b[0m\u001b[0;32m   1390\u001b[0m \u001b[1;33m\u001b[0m\u001b[0m\n\u001b[0;32m   1391\u001b[0m                 \u001b[1;31m# we have yielded a scalar ?\u001b[0m\u001b[1;33m\u001b[0m\u001b[1;33m\u001b[0m\u001b[1;33m\u001b[0m\u001b[0m\n",
      "\u001b[1;32mC:\\ProgramData\\Anaconda3\\lib\\site-packages\\pandas\\core\\indexing.py\u001b[0m in \u001b[0;36m_getitem_axis\u001b[1;34m(self, key, axis)\u001b[0m\n\u001b[0;32m   1963\u001b[0m         \u001b[1;31m# fall thru to straight lookup\u001b[0m\u001b[1;33m\u001b[0m\u001b[1;33m\u001b[0m\u001b[1;33m\u001b[0m\u001b[0m\n\u001b[0;32m   1964\u001b[0m         \u001b[0mself\u001b[0m\u001b[1;33m.\u001b[0m\u001b[0m_validate_key\u001b[0m\u001b[1;33m(\u001b[0m\u001b[0mkey\u001b[0m\u001b[1;33m,\u001b[0m \u001b[0maxis\u001b[0m\u001b[1;33m)\u001b[0m\u001b[1;33m\u001b[0m\u001b[1;33m\u001b[0m\u001b[0m\n\u001b[1;32m-> 1965\u001b[1;33m         \u001b[1;32mreturn\u001b[0m \u001b[0mself\u001b[0m\u001b[1;33m.\u001b[0m\u001b[0m_get_label\u001b[0m\u001b[1;33m(\u001b[0m\u001b[0mkey\u001b[0m\u001b[1;33m,\u001b[0m \u001b[0maxis\u001b[0m\u001b[1;33m=\u001b[0m\u001b[0maxis\u001b[0m\u001b[1;33m)\u001b[0m\u001b[1;33m\u001b[0m\u001b[1;33m\u001b[0m\u001b[0m\n\u001b[0m\u001b[0;32m   1966\u001b[0m \u001b[1;33m\u001b[0m\u001b[0m\n\u001b[0;32m   1967\u001b[0m \u001b[1;33m\u001b[0m\u001b[0m\n",
      "\u001b[1;32mC:\\ProgramData\\Anaconda3\\lib\\site-packages\\pandas\\core\\indexing.py\u001b[0m in \u001b[0;36m_get_label\u001b[1;34m(self, label, axis)\u001b[0m\n\u001b[0;32m    623\u001b[0m             \u001b[1;32mraise\u001b[0m \u001b[0mIndexingError\u001b[0m\u001b[1;33m(\u001b[0m\u001b[1;34m\"no slices here, handle elsewhere\"\u001b[0m\u001b[1;33m)\u001b[0m\u001b[1;33m\u001b[0m\u001b[1;33m\u001b[0m\u001b[0m\n\u001b[0;32m    624\u001b[0m \u001b[1;33m\u001b[0m\u001b[0m\n\u001b[1;32m--> 625\u001b[1;33m         \u001b[1;32mreturn\u001b[0m \u001b[0mself\u001b[0m\u001b[1;33m.\u001b[0m\u001b[0mobj\u001b[0m\u001b[1;33m.\u001b[0m\u001b[0m_xs\u001b[0m\u001b[1;33m(\u001b[0m\u001b[0mlabel\u001b[0m\u001b[1;33m,\u001b[0m \u001b[0maxis\u001b[0m\u001b[1;33m=\u001b[0m\u001b[0maxis\u001b[0m\u001b[1;33m)\u001b[0m\u001b[1;33m\u001b[0m\u001b[1;33m\u001b[0m\u001b[0m\n\u001b[0m\u001b[0;32m    626\u001b[0m \u001b[1;33m\u001b[0m\u001b[0m\n\u001b[0;32m    627\u001b[0m     \u001b[1;32mdef\u001b[0m \u001b[0m_get_loc\u001b[0m\u001b[1;33m(\u001b[0m\u001b[0mself\u001b[0m\u001b[1;33m,\u001b[0m \u001b[0mkey\u001b[0m\u001b[1;33m:\u001b[0m \u001b[0mint\u001b[0m\u001b[1;33m,\u001b[0m \u001b[0maxis\u001b[0m\u001b[1;33m:\u001b[0m \u001b[0mint\u001b[0m\u001b[1;33m)\u001b[0m\u001b[1;33m:\u001b[0m\u001b[1;33m\u001b[0m\u001b[1;33m\u001b[0m\u001b[0m\n",
      "\u001b[1;32mC:\\ProgramData\\Anaconda3\\lib\\site-packages\\pandas\\core\\generic.py\u001b[0m in \u001b[0;36mxs\u001b[1;34m(self, key, axis, level, drop_level)\u001b[0m\n\u001b[0;32m   3535\u001b[0m             \u001b[0mloc\u001b[0m\u001b[1;33m,\u001b[0m \u001b[0mnew_index\u001b[0m \u001b[1;33m=\u001b[0m \u001b[0mself\u001b[0m\u001b[1;33m.\u001b[0m\u001b[0mindex\u001b[0m\u001b[1;33m.\u001b[0m\u001b[0mget_loc_level\u001b[0m\u001b[1;33m(\u001b[0m\u001b[0mkey\u001b[0m\u001b[1;33m,\u001b[0m \u001b[0mdrop_level\u001b[0m\u001b[1;33m=\u001b[0m\u001b[0mdrop_level\u001b[0m\u001b[1;33m)\u001b[0m\u001b[1;33m\u001b[0m\u001b[1;33m\u001b[0m\u001b[0m\n\u001b[0;32m   3536\u001b[0m         \u001b[1;32melse\u001b[0m\u001b[1;33m:\u001b[0m\u001b[1;33m\u001b[0m\u001b[1;33m\u001b[0m\u001b[0m\n\u001b[1;32m-> 3537\u001b[1;33m             \u001b[0mloc\u001b[0m \u001b[1;33m=\u001b[0m \u001b[0mself\u001b[0m\u001b[1;33m.\u001b[0m\u001b[0mindex\u001b[0m\u001b[1;33m.\u001b[0m\u001b[0mget_loc\u001b[0m\u001b[1;33m(\u001b[0m\u001b[0mkey\u001b[0m\u001b[1;33m)\u001b[0m\u001b[1;33m\u001b[0m\u001b[1;33m\u001b[0m\u001b[0m\n\u001b[0m\u001b[0;32m   3538\u001b[0m \u001b[1;33m\u001b[0m\u001b[0m\n\u001b[0;32m   3539\u001b[0m             \u001b[1;32mif\u001b[0m \u001b[0misinstance\u001b[0m\u001b[1;33m(\u001b[0m\u001b[0mloc\u001b[0m\u001b[1;33m,\u001b[0m \u001b[0mnp\u001b[0m\u001b[1;33m.\u001b[0m\u001b[0mndarray\u001b[0m\u001b[1;33m)\u001b[0m\u001b[1;33m:\u001b[0m\u001b[1;33m\u001b[0m\u001b[1;33m\u001b[0m\u001b[0m\n",
      "\u001b[1;32mC:\\ProgramData\\Anaconda3\\lib\\site-packages\\pandas\\core\\indexes\\base.py\u001b[0m in \u001b[0;36mget_loc\u001b[1;34m(self, key, method, tolerance)\u001b[0m\n\u001b[0;32m   2646\u001b[0m                 \u001b[1;32mreturn\u001b[0m \u001b[0mself\u001b[0m\u001b[1;33m.\u001b[0m\u001b[0m_engine\u001b[0m\u001b[1;33m.\u001b[0m\u001b[0mget_loc\u001b[0m\u001b[1;33m(\u001b[0m\u001b[0mkey\u001b[0m\u001b[1;33m)\u001b[0m\u001b[1;33m\u001b[0m\u001b[1;33m\u001b[0m\u001b[0m\n\u001b[0;32m   2647\u001b[0m             \u001b[1;32mexcept\u001b[0m \u001b[0mKeyError\u001b[0m\u001b[1;33m:\u001b[0m\u001b[1;33m\u001b[0m\u001b[1;33m\u001b[0m\u001b[0m\n\u001b[1;32m-> 2648\u001b[1;33m                 \u001b[1;32mreturn\u001b[0m \u001b[0mself\u001b[0m\u001b[1;33m.\u001b[0m\u001b[0m_engine\u001b[0m\u001b[1;33m.\u001b[0m\u001b[0mget_loc\u001b[0m\u001b[1;33m(\u001b[0m\u001b[0mself\u001b[0m\u001b[1;33m.\u001b[0m\u001b[0m_maybe_cast_indexer\u001b[0m\u001b[1;33m(\u001b[0m\u001b[0mkey\u001b[0m\u001b[1;33m)\u001b[0m\u001b[1;33m)\u001b[0m\u001b[1;33m\u001b[0m\u001b[1;33m\u001b[0m\u001b[0m\n\u001b[0m\u001b[0;32m   2649\u001b[0m         \u001b[0mindexer\u001b[0m \u001b[1;33m=\u001b[0m \u001b[0mself\u001b[0m\u001b[1;33m.\u001b[0m\u001b[0mget_indexer\u001b[0m\u001b[1;33m(\u001b[0m\u001b[1;33m[\u001b[0m\u001b[0mkey\u001b[0m\u001b[1;33m]\u001b[0m\u001b[1;33m,\u001b[0m \u001b[0mmethod\u001b[0m\u001b[1;33m=\u001b[0m\u001b[0mmethod\u001b[0m\u001b[1;33m,\u001b[0m \u001b[0mtolerance\u001b[0m\u001b[1;33m=\u001b[0m\u001b[0mtolerance\u001b[0m\u001b[1;33m)\u001b[0m\u001b[1;33m\u001b[0m\u001b[1;33m\u001b[0m\u001b[0m\n\u001b[0;32m   2650\u001b[0m         \u001b[1;32mif\u001b[0m \u001b[0mindexer\u001b[0m\u001b[1;33m.\u001b[0m\u001b[0mndim\u001b[0m \u001b[1;33m>\u001b[0m \u001b[1;36m1\u001b[0m \u001b[1;32mor\u001b[0m \u001b[0mindexer\u001b[0m\u001b[1;33m.\u001b[0m\u001b[0msize\u001b[0m \u001b[1;33m>\u001b[0m \u001b[1;36m1\u001b[0m\u001b[1;33m:\u001b[0m\u001b[1;33m\u001b[0m\u001b[1;33m\u001b[0m\u001b[0m\n",
      "\u001b[1;32mpandas\\_libs\\index.pyx\u001b[0m in \u001b[0;36mpandas._libs.index.IndexEngine.get_loc\u001b[1;34m()\u001b[0m\n",
      "\u001b[1;32mpandas\\_libs\\index.pyx\u001b[0m in \u001b[0;36mpandas._libs.index.IndexEngine.get_loc\u001b[1;34m()\u001b[0m\n",
      "\u001b[1;32mpandas\\_libs\\hashtable_class_helper.pxi\u001b[0m in \u001b[0;36mpandas._libs.hashtable.Int64HashTable.get_item\u001b[1;34m()\u001b[0m\n",
      "\u001b[1;32mpandas\\_libs\\hashtable_class_helper.pxi\u001b[0m in \u001b[0;36mpandas._libs.hashtable.Int64HashTable.get_item\u001b[1;34m()\u001b[0m\n",
      "\u001b[1;31mKeyError\u001b[0m: 1001898"
     ]
    }
   ],
   "source": [
    "plot_metrics_for_individual_flights(df, 2)"
   ]
  },
  {
   "cell_type": "code",
   "execution_count": 100,
   "metadata": {},
   "outputs": [],
   "source": [
    "def plot_metrics_for_individual_flights(dataframe, flight_sample_size = 10):\n",
    "\n",
    "    metric_maxes = {}\n",
    "\n",
    "    plotbook_filename = 'plotbook' + '_' + str(flight_sample_size) if flight_sample_size != -1 else 'plotbook'\n",
    "    df = dataframe\n",
    "    if 'FLIGHT_ID' in df.columns:\n",
    "        df_grouped_by_flight = df.drop(columns = ['FLIGHT_ID'], axis = 1).groupby(\"FLIGHT_ID\")\n",
    "        df[\"FLIGHT_ID\"] = df[\"FLIGHT_ID\"].astype(str)\n",
    "    else:\n",
    "        df_grouped_by_flight = df.groupby(\"FLIGHT_ID\")\n",
    "    \n",
    "    fn = plotbook_filename + '.html'\n",
    "    open( os.path.join(filepath,fn), 'w')\n",
    "    #     #TODO: write plots to pdf file\n",
    "    #     fn = plotbook_filename + '.pdf'\n",
    "\n",
    "    flight_count = 0\n",
    "    for flight, group in df_grouped_by_flight:\n",
    "        flight_sample_size = len(group) if flight_sample_size == -1 else flight_sample_size\n",
    "\n",
    "        if flight_count == flight_sample_size:\n",
    "            break\n",
    "\n",
    "        metrics = ['MSL_ALT', 'N1', 'TAS_SEGMENT']\n",
    "\n",
    "        #create Figure with subplots for each metric for a given flight\n",
    "        fig = make_subplots(rows=len(metrics), cols=1,\n",
    "                        shared_xaxes=True,\n",
    "                        vertical_spacing=0.02)\n",
    "\n",
    "        for m in metrics:\n",
    "            metric_maxes[m]=group[m].max() if m != 'N1' else 100\n",
    "\n",
    "            #create and add a subplot to the Figure\n",
    "            sub = go.Scatter(\n",
    "                    x=group.DISTANCE_FROM_RUNWAY_END\n",
    "                    , y=group[m]\n",
    "                    , mode=\"markers\"\n",
    "                    , name = m\n",
    "            )\n",
    "            fig.add_trace(sub, row=metrics.index(m)+1, col=1)\n",
    "\n",
    "    #         #turn off auto range adjustment\n",
    "    #         fig.update_layout(\n",
    "    #             yaxis_autorange = False\n",
    "    #             )        \n",
    "    #         fig.update_yaxes({}, row=metrics.index(m)+1, col=1)\n",
    "\n",
    "            dl_cgtd = detected_liftoff_cumul_grnd_trk_dist = df_liftoff.loc[flight,\"DISTANCE_FROM_RUNWAY_END_AT_DETECTED_LIFTOFF\"]\n",
    "            fig.add_trace(\n",
    "                go.Scatter(\n",
    "                    x=[dl_cgtd, dl_cgtd]\n",
    "                    , y=[0,metric_maxes[m]]\n",
    "                    , mode = \"lines\"\n",
    "                    , name = \"Detected Liftoff\"\n",
    "                    , line = go.scatter.Line(color = 'gray')\n",
    "                )\n",
    "                , row=metrics.index(m)+1, col=1 \n",
    "            )        \n",
    "\n",
    "            rprt_liftoff_cgtd = reported_liftoff_cumul_grnd_trk_dist = df_liftoff.loc[flight,\"DISTANCE_FROM_RUNWAY_END\"]\n",
    "            fig.add_trace(\n",
    "                go.Scatter(\n",
    "                    x=[rprt_liftoff_cgtd, rprt_liftoff_cgtd]\n",
    "                    , y=[0,metric_maxes[m]]\n",
    "                    , mode = \"lines\"\n",
    "                    , name = \"Reported Liftoff\"\n",
    "                    , line = go.scatter.Line(color = 'orange', dash = 'dash')\n",
    "                )\n",
    "                , row=metrics.index(m)+1, col=1 \n",
    "            )\n",
    "\n",
    "            fig.layout.yaxis.update(title_text = metrics[0])\n",
    "            fig.layout.yaxis2.update(title_text = metrics[1], tickvals=[0] + np.arange(70,100,5))\n",
    "            fig.layout.yaxis3.update(title_text = metrics[2])\n",
    "            fig.layout.update(title_text = \"Flight \" + str(flight) + '<br>' + 'Airport / Aicraft Type / Runway / Stage Length ID: ' + \n",
    "                              df_liftoff.loc[flight,\"APT_AIRCRAFT_RUNWAY_STAGE.1\"])\n",
    "        \n",
    "        #write plots to html file         \n",
    "        html = fig.to_html()\n",
    "        with open( os.path.join(filepath,fn), 'a') as f:\n",
    "            f.write(html) \n",
    "\n",
    "        flight_count = flight_count + 1\n",
    "    print(os.path.join(filepath,fn))\n",
    "        \n",
    "    return (os.path.join(filepath,fn))"
   ]
  }
 ],
 "metadata": {
  "kernelspec": {
   "display_name": "Python 3",
   "language": "python",
   "name": "python3"
  },
  "language_info": {
   "codemirror_mode": {
    "name": "ipython",
    "version": 3
   },
   "file_extension": ".py",
   "mimetype": "text/x-python",
   "name": "python",
   "nbconvert_exporter": "python",
   "pygments_lexer": "ipython3",
   "version": "3.8.3"
  }
 },
 "nbformat": 4,
 "nbformat_minor": 4
}
