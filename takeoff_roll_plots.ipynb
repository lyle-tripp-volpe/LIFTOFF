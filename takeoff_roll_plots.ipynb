{
 "cells": [
  {
   "cell_type": "code",
   "execution_count": 361,
   "metadata": {},
   "outputs": [],
   "source": [
    "import plotly.express as px\n",
    "import pandas as pd\n",
    "from plotly.subplots import make_subplots\n",
    "import plotly.graph_objects as go\n",
    "from os.path import expanduser\n",
    "import os.path \n",
    "import numpy as np\n",
    "import webbrowser as wb\n",
    "\n",
    "#TODO:\n",
    "# create helper functions: data quality binning\n",
    "#add liftoff and start of takeoff points and quality, computation of takeoff roll length\n",
    "#\t\t○ Delineate/mark the whole ground roll event (as detected) in the trajectory dataframe\n",
    "#\t\t\t§ Helper function to get ground roll start time\n",
    "#\t\t\t§ Helper function to get ground roll end time\n",
    "#\t\t○ Store ground roll distance in the schedule table\n",
    "#\t\t○ Store N1_during_takeoff_groundroll in the schedule table\n",
    "#           Numerical Average during ground roll event\n",
    "\n",
    "home = expanduser(\"~\")\n",
    "filepath = home+'\\OneDrive - DOT OST\\BADA4_Reduced_Thrust_Sensor_Path_Noise_Comparison_main'#\\\\FDR_desensitized\\\\TKOFF'\n",
    "filename = 'takeoff_distance'#_kluge'\n",
    "file_extension = '.csv'\n",
    "df = pd.read_csv(os.path.join(filepath, filename + file_extension), index_col=[\"FLIGHT_ID\", \"TIME_OFFSET\"])\n",
    "df.rename(columns={'FUEL_QUANTITY':'FUEL_QUANTITY_KILOGRAMS'}, inplace=True)\n"
   ]
  },
  {
   "cell_type": "code",
   "execution_count": 362,
   "metadata": {},
   "outputs": [],
   "source": [
    "# #optionally write the desensitized file version if you like\n",
    "# df_desensitized = pd.read_csv(os.path.join(filepath+'\\\\FDR_desensitized\\\\TKOFF', filename+'_desensitized'+file_extension), index_col=[\"FLIGHT_ID\", \"TIME_OFFSET\"])\n",
    "# df_kluge = pd.concat([df_desensitized,df[[\"FUEL_QUANTITY_KILOGRAMS\"]]], axis = 1)\n",
    "# df_kluge.APT_encoded = df_kluge.APT_encoded.astype('str')\n",
    "# df_kluge.Departure_Runway_end_encoded = df_kluge.Departure_Runway_end_encoded.astype('str')\n",
    "# df_kluge.STAGE_LENGTH_ID = df_kluge.STAGE_LENGTH_ID.astype('str')\n",
    "# df_grouping_series = df_kluge[[\"APT_encoded\", \"ACTYPE\", \"Departure_Runway_end_encoded\", \"STAGE_LENGTH_ID\"]].dropna()\n",
    "# df_kluge[\"APT_AIRCRAFT_RUNWAY_STAGE.1\"] = df_grouping_series.apply(list, axis=1).str.join(sep='_')\n",
    "# df_kluge.to_csv(path_or_buf=filepath+'\\\\FDR_desensitized\\\\TKOFF\\\\takeoff_distance_kluge.csv')"
   ]
  },
  {
   "cell_type": "code",
   "execution_count": 363,
   "metadata": {},
   "outputs": [],
   "source": [
    "modes = ['Undetected','Takeoff Ground Roll']\n",
    "\n",
    "df[\"Detected_Trajectory_Mode\"] = modes.index('Undetected')\n",
    "df.Detected_Trajectory_Mode = df.Detected_Trajectory_Mode.astype(\"int\")"
   ]
  },
  {
   "cell_type": "code",
   "execution_count": 364,
   "metadata": {},
   "outputs": [],
   "source": [
    "df_liftoff = pd.DataFrame(df[df.DISTANCE_FROM_RUNWAY_END_AT_DETECTED_LIFTOFF.notna()])\n",
    "df_liftoff.reset_index(level = 1, inplace = True)\n",
    "\n",
    "df_rollstart = df[df.DISTANCE_FROM_RUNWAY_END_AT_DETECTED_START_OF_TAKEOFF.notna()]\n",
    "df_rollstart.reset_index(level = 1, inplace = True)"
   ]
  },
  {
   "cell_type": "code",
   "execution_count": 365,
   "metadata": {},
   "outputs": [],
   "source": [
    "#def mark_ground_roll_segments(df, flight_id, liftoff_time_offset, rollstart_time_offset, ground_roll_mode_index):\n",
    "    #return a dataframe of start and stop times by flight\n",
    "#select rows where TIME_OFFSET is within TIME_OFFSET_rollstart and TIME_OFFSET_liftoff\n",
    "df_aug = df.loc[:,['N1']]\n",
    "df_aug = df_aug.join(df_schedule, rsuffix=\"_sched\", how=\"left\").reset_index(level=\"TIME_OFFSET\")\n",
    "df_aug[\"Detected_Ground_Roll\"] = (df_aug.TIME_OFFSET >= df_aug.TIME_OFFSET_rollstart) & (df_aug.TIME_OFFSET <= df_aug.TIME_OFFSET_liftoff)\n",
    "df_aug.set_index('TIME_OFFSET',append=True, inplace=True)\n",
    "mask = (df_aug.Detected_Ground_Roll == True)\n",
    "df.loc[mask, 'Detected_Trajectory_Mode'] = modes.index('Takeoff Ground Roll')"
   ]
  },
  {
   "cell_type": "code",
   "execution_count": 366,
   "metadata": {},
   "outputs": [],
   "source": [
    "def plot_metrics_for_individual_flights(dataframe, flight_sample_size = 10):\n",
    "\n",
    "    metric_maxes = {}\n",
    "\n",
    "    plotbook_filename = 'plotbook' + '_' + str(flight_sample_size) if flight_sample_size != -1 else 'plotbook'\n",
    "    df = dataframe\n",
    "    if 'FLIGHT_ID' in df.columns:\n",
    "        df_grouped_by_flight = df.drop(columns = ['FLIGHT_ID'], axis = 1).groupby(\"FLIGHT_ID\")\n",
    "        df[\"FLIGHT_ID\"] = df[\"FLIGHT_ID\"].astype(str)\n",
    "    else:\n",
    "        df_grouped_by_flight = df.groupby(\"FLIGHT_ID\")\n",
    "    \n",
    "    fn = plotbook_filename + '.html'\n",
    "    open( os.path.join(filepath,fn), 'w')\n",
    "    #     #TODO: write plots to pdf file\n",
    "    #     fn = plotbook_filename + '.pdf'\n",
    "\n",
    "    flight_count = 0\n",
    "    for flight, group in df_grouped_by_flight:\n",
    "        flight_sample_size = len(group) if flight_sample_size == -1 else flight_sample_size\n",
    "\n",
    "        if flight_count == flight_sample_size:\n",
    "            break\n",
    "\n",
    "#         metrics = ['MSL_ALT']\n",
    "        metrics = ['AFE_ALT']\n",
    "        metrics += ['N1', 'TAS_SEGMENT']\n",
    "\n",
    "        #create Figure with subplots for each metric for a given flight\n",
    "        fig = make_subplots(rows=len(metrics), cols=1,\n",
    "                        shared_xaxes=True,\n",
    "                        vertical_spacing=0.02)\n",
    "\n",
    "        for m in metrics:\n",
    "            metric_maxes[m]=group[m].max() if m != 'N1' else 100\n",
    "\n",
    "            #create and add a subplot to the Figure\n",
    "            sub = go.Scatter(\n",
    "                    x=group.DISTANCE_FROM_RUNWAY_END\n",
    "                    , y=group[m]\n",
    "                    , mode=\"markers\"\n",
    "                    , name = m\n",
    "            )\n",
    "            fig.add_trace(sub, row=metrics.index(m)+1, col=1)\n",
    "\n",
    "    #         #turn off auto range adjustment\n",
    "    #         fig.update_layout(\n",
    "    #             yaxis_autorange = False\n",
    "    #             )        \n",
    "    #         fig.update_yaxes({}, row=metrics.index(m)+1, col=1)\n",
    "\n",
    "            dl_cgtd = detected_liftoff_cumul_grnd_trk_dist = df_liftoff.loc[flight,\"DISTANCE_FROM_RUNWAY_END_AT_DETECTED_LIFTOFF\"]\n",
    "            fig.add_trace(\n",
    "                go.Scatter(\n",
    "                    x=[dl_cgtd, dl_cgtd]\n",
    "                    , y=[0,metric_maxes[m]]\n",
    "                    , mode = \"lines\"\n",
    "                    , name = \"Detected Liftoff\"\n",
    "                    , line = go.scatter.Line(color = 'gray')\n",
    "                )\n",
    "                , row=metrics.index(m)+1, col=1 \n",
    "            )        \n",
    "\n",
    "            rprt_liftoff_cgtd = reported_liftoff_cumul_grnd_trk_dist = df_liftoff.loc[flight,\"DISTANCE_FROM_RUNWAY_END\"]\n",
    "            fig.add_trace(\n",
    "                go.Scatter(\n",
    "                    x=[rprt_liftoff_cgtd, rprt_liftoff_cgtd]\n",
    "                    , y=[0,metric_maxes[m]]\n",
    "                    , mode = \"lines\"\n",
    "                    , name = \"Reported Liftoff\"\n",
    "                    , line = go.scatter.Line(color = 'orange', dash = 'dash')\n",
    "                )\n",
    "                , row=metrics.index(m)+1, col=1 \n",
    "            )\n",
    "\n",
    "            fig.layout.yaxis.update(title_text = metrics[0])\n",
    "            fig.layout.yaxis2.update(title_text = metrics[1], tickvals=[0] + np.arange(70,100,5))\n",
    "            fig.layout.yaxis3.update(title_text = metrics[2])\n",
    "            fig.layout.update(title_text = \"Flight \" + str(flight) + '<br>' + 'Airport / Aicraft Type / Runway / Stage Length ID: ' + \n",
    "                              str(df_liftoff.loc[flight,\"APT_AIRCRAFT_RUNWAY_STAGE.1\"]))\n",
    "        \n",
    "        #write plots to html file         \n",
    "        html = fig.to_html()\n",
    "        with open( os.path.join(filepath,fn), 'a') as f:\n",
    "            f.write(html) \n",
    "\n",
    "        flight_count = flight_count + 1\n",
    "    print(os.path.join(filepath,fn))\n",
    "        \n",
    "    return (os.path.join(filepath,fn))"
   ]
  },
  {
   "cell_type": "code",
   "execution_count": 367,
   "metadata": {},
   "outputs": [],
   "source": [
    "#formulate flight schedule\n",
    "salient_rollstart_col_list = ['DISTANCE_FROM_THRESHOLD_AT_POINT_ONE', 'DISTANCE_FROM_POINT_ONE_FEET',\n",
    "       'GROUNDSPEED_AT_POINT_ONE_KNOTS', 'WELL-BEHAVED_TRAJECTORY',\n",
    "#        'LATITUDE_AT_POINT_ONE', 'LONGITUDE_AT_POINT_ONE',\n",
    "        'STATED_SEGMENT_START_OF_TAKEOFF',\n",
    "       'DISTANCE_FROM_RUNWAY_END_AT_DETECTED_START_OF_TAKEOFF'\n",
    "        ]\n",
    "extraneous_schedule_columns_list = [col for col in df_rollstart.columns if col not in salient_rollstart_col_list + [\"DISTANCE_FROM_RUNWAY_END\", 'TIME_OFFSET','FUEL_QUANTITY_KILOGRAMS', 'HEAD_WIND', 'APT_AIRCRAFT_RUNWAY_STAGE.1']]\n",
    "\n",
    "df_schedule = df_liftoff.drop(salient_rollstart_col_list, axis = 1).join(\n",
    "    df_rollstart.drop(\n",
    "        columns = extraneous_schedule_columns_list, axis = 1\n",
    "    )\n",
    "    , how = 'left'\n",
    "    , lsuffix = '_liftoff' \n",
    "    , rsuffix = '_rollstart'\n",
    ")\n",
    "\n",
    "#coalesce the grouping column\n",
    "mask = (df_schedule['APT_AIRCRAFT_RUNWAY_STAGE.1_liftoff'].notna())\n",
    "df_schedule.loc[mask, \"APT_AIRCRAFT_RUNWAY_STAGE\"] = df_schedule['APT_AIRCRAFT_RUNWAY_STAGE.1_liftoff']\n",
    "mask = (df_schedule['APT_AIRCRAFT_RUNWAY_STAGE.1_rollstart'].notna())\n",
    "df_schedule.loc[mask, \"APT_AIRCRAFT_RUNWAY_STAGE\"] = df_schedule['APT_AIRCRAFT_RUNWAY_STAGE.1_rollstart']\n",
    "\n",
    "df_schedule[\"TAKEOFF_GROUND_ROLL_DISTANCE_DETECTED_IN_FEET\"] = df_schedule.DISTANCE_FROM_RUNWAY_END_liftoff - df_schedule.DISTANCE_FROM_RUNWAY_END_rollstart\n",
    "\n",
    "df_schedule[\"liftoff_detection_quality\"] = abs(df_liftoff.DISTANCE_FROM_RUNWAY_END_AT_DETECTED_LIFTOFF - df_liftoff.DISTANCE_FROM_RUNWAY_END) / df_liftoff.DISTANCE_FROM_RUNWAY_END \n",
    "#instantiate bins for grouping on the quality of liftoff detection\n",
    "liftoff_detection_quality_bins = [0, 0.01] #, 0.05, 0.1, 1]\n",
    "df_schedule[\"very_high_liftoff_detection_quality\"] = df_schedule[\"liftoff_detection_quality\"].between(liftoff_detection_quality_bins[0], liftoff_detection_quality_bins[1]) == True\n",
    "flights_with_very_high_liftoff_detection_quality = df_schedule[df_schedule.very_high_liftoff_detection_quality == True].index.to_series()\n",
    "\n",
    "#add average N1 during detected ground roll to the schedule\n",
    "df_traj_takeoff_ground_roll = df[df.Detected_Trajectory_Mode == modes.index('Takeoff Ground Roll')]\n",
    "df_traj_tkoff_gd_rl_groupby = df_traj_takeoff_ground_roll.groupby(by=[\"FLIGHT_ID\"])\n",
    "df_schedule[\"N1_during_detected_takeoff_ground_roll\"] = df_traj_tkoff_gd_rl_groupby.mean().N1"
   ]
  },
  {
   "cell_type": "markdown",
   "metadata": {},
   "source": [
    " len(df[df[\"WELL-BEHAVED_TRAJECTORY\"] == 1]) rows in the sample are well-behaved"
   ]
  },
  {
   "cell_type": "code",
   "execution_count": 368,
   "metadata": {},
   "outputs": [],
   "source": [
    "#plot relationship of actual N1 to actual ground roll distance for a given weight, weather, runway, aircraft type\n",
    "#plot relationship of actual N1 to detected ground roll distance for a given weight, weather, runway, aircraft type\n",
    "#plot relationship of actual N1 to detected N1 for a given weight, weather, runway, aircraft type\n",
    "inp_vars = [\"HEAD_WIND_liftoff\", \"FUEL_QUANTITY_KILOGRAMS_rollstart\"]\n",
    "#placeholder columns to hold categorizations\n",
    "df_schedule[\"FUEL_ROLL_BIN\"] = pd.Series(dtype='str')\n",
    "df_schedule[\"HEADWIND_LFTFF_BIN\"] = pd.Series(dtype='str')\n",
    "\n",
    "#create the categorizations / numerical bins on the input variables in inp_vars list\n",
    "#weather bins with width of 2 knots\n",
    "#weight bins with width computed dynamically as 1% of the runway/aircraft type/stage group's max weight\n",
    "df_schedule_groupby = df_schedule.groupby(by=\"APT_AIRCRAFT_RUNWAY_STAGE\")\n",
    "group_list = list(df_schedule_groupby.indices.keys())\n",
    "\n",
    "\n",
    "#loop through groups, adding row by row and taking cuts at bins, a column to a dataframe\n",
    "df_schedule_group = pd.DataFrame(index=group_list, columns=inp_vars)\n",
    "prev_group = None\n",
    "frame = pd.DataFrame()\n",
    "for group, inp_var in df_schedule_groupby:\n",
    "    #pass the group-inp_var combo as a series extracted from the groupby object\n",
    "    adding_column_data = True if group == prev_group else False\n",
    "    axis = 1 if adding_column_data else 0    \n",
    "    num_bins = 10\n",
    "\n",
    "    var_group_combo_as_series = df_schedule_groupby[i].get_group(group)\n",
    "    (var_group_combo_binned, bins) = pd.cut(var_group_combo_as_series\n",
    "                       , num_bins\n",
    "                       , labels=False\n",
    "                       , retbins=True\n",
    "                      )\n",
    "\n",
    "    #store the rows or columns\n",
    "    frame = pd.concat([frame, var_group_combo_binned], axis = axis, verify_integrity=True)\n",
    "\n",
    "    #store the category definitions\n",
    "#     df_schedule_group\n",
    "    \n",
    "    prev_group = group    "
   ]
  },
  {
   "cell_type": "code",
   "execution_count": 369,
   "metadata": {},
   "outputs": [
    {
     "data": {
      "text/html": [
       "<div>\n",
       "<style scoped>\n",
       "    .dataframe tbody tr th:only-of-type {\n",
       "        vertical-align: middle;\n",
       "    }\n",
       "\n",
       "    .dataframe tbody tr th {\n",
       "        vertical-align: top;\n",
       "    }\n",
       "\n",
       "    .dataframe thead th {\n",
       "        text-align: right;\n",
       "    }\n",
       "</style>\n",
       "<table border=\"1\" class=\"dataframe\">\n",
       "  <thead>\n",
       "    <tr style=\"text-align: right;\">\n",
       "      <th></th>\n",
       "      <th>0</th>\n",
       "    </tr>\n",
       "  </thead>\n",
       "  <tbody>\n",
       "    <tr>\n",
       "      <th>1005430</th>\n",
       "      <td>4.0</td>\n",
       "    </tr>\n",
       "    <tr>\n",
       "      <th>1002404</th>\n",
       "      <td>7.0</td>\n",
       "    </tr>\n",
       "    <tr>\n",
       "      <th>1003312</th>\n",
       "      <td>6.0</td>\n",
       "    </tr>\n",
       "    <tr>\n",
       "      <th>1003783</th>\n",
       "      <td>5.0</td>\n",
       "    </tr>\n",
       "    <tr>\n",
       "      <th>1005007</th>\n",
       "      <td>7.0</td>\n",
       "    </tr>\n",
       "  </tbody>\n",
       "</table>\n",
       "</div>"
      ],
      "text/plain": [
       "           0\n",
       "1005430  4.0\n",
       "1002404  7.0\n",
       "1003312  6.0\n",
       "1003783  5.0\n",
       "1005007  7.0"
      ]
     },
     "execution_count": 369,
     "metadata": {},
     "output_type": "execute_result"
    }
   ],
   "source": [
    "frame.head()"
   ]
  },
  {
   "cell_type": "code",
   "execution_count": 370,
   "metadata": {},
   "outputs": [
    {
     "data": {
      "text/plain": [
       "<pandas.core.groupby.generic.DataFrameGroupBy object at 0x000001A4869A20A0>"
      ]
     },
     "execution_count": 370,
     "metadata": {},
     "output_type": "execute_result"
    }
   ],
   "source": [
    "df_schedule_groupby"
   ]
  },
  {
   "cell_type": "code",
   "execution_count": 371,
   "metadata": {},
   "outputs": [
    {
     "data": {
      "text/plain": [
       "APT_AIRCRAFT_RUNWAY_STAGE\n",
       "LAX_A340_06R_7    852.264219\n",
       "LAX_A340_24L_7    958.207656\n",
       "LAX_A340_25R_7    952.039688\n",
       "ORD_A330_14L_6    613.619922\n",
       "ORD_A330_22L_6    553.382734\n",
       "ORD_A330_28_6     579.509648\n",
       "ORD_A330_32L_6    585.134297\n",
       "ORD_A330_32R_6    642.649688\n",
       "ORD_A340_10_6     604.458164\n",
       "ORD_A340_14L_6    765.550234\n",
       "ORD_A340_22L_6    654.164492\n",
       "ORD_A340_28_6     668.314453\n",
       "ORD_A340_32L_6    632.032461\n",
       "ORD_A340_32R_6    724.914375\n",
       "Name: FUEL_QUANTITY_KILOGRAMS_rollstart, dtype: float64"
      ]
     },
     "execution_count": 371,
     "metadata": {},
     "output_type": "execute_result"
    }
   ],
   "source": [
    "max_roll_fuel_in_group = df_schedule_groupby.max().FUEL_QUANTITY_KILOGRAMS_rollstart\n",
    "min_roll_fuel_in_group = df_schedule_groupby.min().FUEL_QUANTITY_KILOGRAMS_rollstart\n",
    "df_weight_range = pd.DataFrame(min_roll_fuel_in_group).join(max_roll_fuel_in_group, lsuffix='_min', rsuffix='_max')\n",
    "\n",
    "0.01*max_roll_fuel_in_group\n",
    "\n"
   ]
  },
  {
   "cell_type": "code",
   "execution_count": 372,
   "metadata": {
    "scrolled": true
   },
   "outputs": [
    {
     "name": "stdout",
     "output_type": "stream",
     "text": [
      "C:\\Users\\Lyle.Tripp\\OneDrive - DOT OST\\BADA4_Reduced_Thrust_Sensor_Path_Noise_Comparison_main\\plotbook.html\n"
     ]
    },
    {
     "data": {
      "text/plain": [
       "True"
      ]
     },
     "execution_count": 372,
     "metadata": {},
     "output_type": "execute_result"
    }
   ],
   "source": [
    "df_high_qual_lift = df.join(flights_with_very_high_liftoff_detection_quality,how = 'inner')\n",
    "fp = plot_metrics_for_individual_flights(df_high_qual_lift, -1)\n",
    "wb.open(url=fp)"
   ]
  },
  {
   "cell_type": "code",
   "execution_count": 373,
   "metadata": {},
   "outputs": [],
   "source": [
    "#focus in on one pair of flights\n",
    "#df_schedule = df_schedule.loc[[1124373, 1128101],:]"
   ]
  },
  {
   "cell_type": "code",
   "execution_count": 374,
   "metadata": {
    "scrolled": false
   },
   "outputs": [
    {
     "ename": "ValueError",
     "evalue": "Value of 'color' is not the name of a column in 'data_frame'. Expected one of ['FLIGHT_ID', 'TIME_OFFSET_liftoff', 'P64: Duration of Takeoff (Seconds)', 'TIME_ON_GROUND_BEFORE_LIFTOFF_(SECONDS)', 'P64: Duration of Taxi Out (Minutes)', 'DURATION', 'SPEED_SOUND_START_EVENT', 'HEAD_WIND_liftoff', 'MSL_ALT', 'AFE_ALT', 'TAS_START_EVENT', 'P64: True Airspeed at Liftoff (knots)', 'MACH_NUMBER_START_EVENT', 'GS_SEGMENT', 'TAS_SEGMENT', 'MACH_NUMBER_SEGMENT', 'DRAG', 'LIFT', 'LAT', 'LON', 'DISTANCE_START_EVENT', 'DISTANCE_END_EVENT', 'FUEL_QUANTITY_KILOGRAMS_liftoff', 'FUELFLOW_START_EVENT', 'FUELFLOW_SEGMENT', 'N1', 'THRUST_START_EVENT', 'THRUST_SEGMENT', 'LIFTOFF', 'APT_CODE', 'Takeoff Runway Starting Latitude', 'Takeoff Runway Starting Longitude', 'DISTANCE_FROM_RUNWAY_END_liftoff', 'DISTANCE_FROM_RUNWAY_END_AT_DETECTED_LIFTOFF', 'FLIGHT_ID.1', 'APT_AIRCRAFT_RUNWAY_STAGE', 'SHARE_OF_REMAINING_RUNWAY_LENGTH_AT_DETECTED_AIRBORNE_POINT_IN_RUNWAY_VICINITY', 'FEET_OF_REMAINING_RUNWAY_LENGTH_AT_DETECTED_AIRBORNE_POINT_IN_RUNWAY_VICINITY', 'DISTANCE_FROM_RUNWAY_END.1', 'RUNWAY_LENGTH', 'DISPLACED_THRESHOLD', 'DEPARTURE_AIRPORT_CODE', 'ACTYPE', 'RUNWAY_END', 'STAGE_LENGTH_ID', 'EFFECTIVE_RUNWAY_LENGTH', 'SHARE_OF_REMAINING_EFFECTIVE_RUNWAY_LENGTH_AT_DETECTED_AIRBORNE_POINT_IN_RUNWAY_VICINITY', 'FEET_OF_REMAINING_EFFECTIVE_RUNWAY_LENGTH_AT_DETECTED_AIRBORNE_POINT_IN_RUNWAY_VICINITY', 'LATITUDE_AT_POINT_ONE', 'LONGITUDE_AT_POINT_ONE', 'LATITUDE_AT_DETECTED_AIRBORNE_POINT_IN_RUNWAY_VICINITY', 'LONGITUDE_AT_DETECTED_AIRBORNE_POINT_IN_RUNWAY_VICINITY', 'ACTYPE.1', 'APT_AIRCRAFT_RUNWAY_STAGE.1_liftoff', 'STAGE_LENGTH_ID.1', 'Detected_Trajectory_Mode', 'TIME_OFFSET_rollstart', 'HEAD_WIND_rollstart', 'FUEL_QUANTITY_KILOGRAMS_rollstart', 'STATED_SEGMENT_START_OF_TAKEOFF', 'DISTANCE_FROM_RUNWAY_END_rollstart', 'DISTANCE_FROM_RUNWAY_END_AT_DETECTED_START_OF_TAKEOFF', 'DISTANCE_FROM_THRESHOLD_AT_POINT_ONE', 'DISTANCE_FROM_POINT_ONE_FEET', 'GROUNDSPEED_AT_POINT_ONE_KNOTS', 'WELL-BEHAVED_TRAJECTORY', 'APT_AIRCRAFT_RUNWAY_STAGE.1_rollstart', 'TAKEOFF_GROUND_ROLL_DISTANCE_DETECTED_IN_FEET', 'liftoff_detection_quality', 'very_high_liftoff_detection_quality', 'N1_during_detected_takeoff_ground_roll', 'FUEL_ROLL_BIN', 'HEADWIND_LFTFF_BIN'] but received: APT_AIRCRAFT_RUNWAY_STAGE.1",
     "output_type": "error",
     "traceback": [
      "\u001b[1;31m---------------------------------------------------------------------------\u001b[0m",
      "\u001b[1;31mValueError\u001b[0m                                Traceback (most recent call last)",
      "\u001b[1;32m<ipython-input-374-977e300c6421>\u001b[0m in \u001b[0;36m<module>\u001b[1;34m\u001b[0m\n\u001b[0;32m      7\u001b[0m \u001b[0mperfect_fit_max\u001b[0m \u001b[1;33m=\u001b[0m \u001b[0mx_max\u001b[0m \u001b[1;32mif\u001b[0m \u001b[0mx_max\u001b[0m \u001b[1;33m>\u001b[0m \u001b[0my_max\u001b[0m \u001b[1;32melse\u001b[0m \u001b[0my_max\u001b[0m\u001b[1;33m\u001b[0m\u001b[1;33m\u001b[0m\u001b[0m\n\u001b[0;32m      8\u001b[0m \u001b[1;33m\u001b[0m\u001b[0m\n\u001b[1;32m----> 9\u001b[1;33m fig = px.scatter(\n\u001b[0m\u001b[0;32m     10\u001b[0m     \u001b[0mdf_schedule\u001b[0m\u001b[1;33m.\u001b[0m\u001b[0mreset_index\u001b[0m\u001b[1;33m(\u001b[0m\u001b[0mlevel\u001b[0m \u001b[1;33m=\u001b[0m \u001b[1;36m0\u001b[0m\u001b[1;33m)\u001b[0m\u001b[1;33m\u001b[0m\u001b[1;33m\u001b[0m\u001b[0m\n\u001b[0;32m     11\u001b[0m     \u001b[1;33m,\u001b[0m \u001b[0mtitle\u001b[0m\u001b[1;33m=\u001b[0m\u001b[1;34m'Liftoff distance from runway end (feet)'\u001b[0m\u001b[1;33m\u001b[0m\u001b[1;33m\u001b[0m\u001b[0m\n",
      "\u001b[1;32mC:\\ProgramData\\Anaconda3\\lib\\site-packages\\plotly\\express\\_chart_types.py\u001b[0m in \u001b[0;36mscatter\u001b[1;34m(data_frame, x, y, color, symbol, size, hover_name, hover_data, custom_data, text, facet_row, facet_col, facet_col_wrap, facet_row_spacing, facet_col_spacing, error_x, error_x_minus, error_y, error_y_minus, animation_frame, animation_group, category_orders, labels, orientation, color_discrete_sequence, color_discrete_map, color_continuous_scale, range_color, color_continuous_midpoint, symbol_sequence, symbol_map, opacity, size_max, marginal_x, marginal_y, trendline, trendline_color_override, log_x, log_y, range_x, range_y, render_mode, title, template, width, height)\u001b[0m\n\u001b[0;32m     62\u001b[0m     \u001b[0mmark\u001b[0m \u001b[1;32min\u001b[0m \u001b[1;36m2\u001b[0m\u001b[0mD\u001b[0m \u001b[0mspace\u001b[0m\u001b[1;33m.\u001b[0m\u001b[1;33m\u001b[0m\u001b[1;33m\u001b[0m\u001b[0m\n\u001b[0;32m     63\u001b[0m     \"\"\"\n\u001b[1;32m---> 64\u001b[1;33m     \u001b[1;32mreturn\u001b[0m \u001b[0mmake_figure\u001b[0m\u001b[1;33m(\u001b[0m\u001b[0margs\u001b[0m\u001b[1;33m=\u001b[0m\u001b[0mlocals\u001b[0m\u001b[1;33m(\u001b[0m\u001b[1;33m)\u001b[0m\u001b[1;33m,\u001b[0m \u001b[0mconstructor\u001b[0m\u001b[1;33m=\u001b[0m\u001b[0mgo\u001b[0m\u001b[1;33m.\u001b[0m\u001b[0mScatter\u001b[0m\u001b[1;33m)\u001b[0m\u001b[1;33m\u001b[0m\u001b[1;33m\u001b[0m\u001b[0m\n\u001b[0m\u001b[0;32m     65\u001b[0m \u001b[1;33m\u001b[0m\u001b[0m\n\u001b[0;32m     66\u001b[0m \u001b[1;33m\u001b[0m\u001b[0m\n",
      "\u001b[1;32mC:\\ProgramData\\Anaconda3\\lib\\site-packages\\plotly\\express\\_core.py\u001b[0m in \u001b[0;36mmake_figure\u001b[1;34m(args, constructor, trace_patch, layout_patch)\u001b[0m\n\u001b[0;32m   1824\u001b[0m     \u001b[0mapply_default_cascade\u001b[0m\u001b[1;33m(\u001b[0m\u001b[0margs\u001b[0m\u001b[1;33m)\u001b[0m\u001b[1;33m\u001b[0m\u001b[1;33m\u001b[0m\u001b[0m\n\u001b[0;32m   1825\u001b[0m \u001b[1;33m\u001b[0m\u001b[0m\n\u001b[1;32m-> 1826\u001b[1;33m     \u001b[0margs\u001b[0m \u001b[1;33m=\u001b[0m \u001b[0mbuild_dataframe\u001b[0m\u001b[1;33m(\u001b[0m\u001b[0margs\u001b[0m\u001b[1;33m,\u001b[0m \u001b[0mconstructor\u001b[0m\u001b[1;33m)\u001b[0m\u001b[1;33m\u001b[0m\u001b[1;33m\u001b[0m\u001b[0m\n\u001b[0m\u001b[0;32m   1827\u001b[0m     \u001b[1;32mif\u001b[0m \u001b[0mconstructor\u001b[0m \u001b[1;32min\u001b[0m \u001b[1;33m[\u001b[0m\u001b[0mgo\u001b[0m\u001b[1;33m.\u001b[0m\u001b[0mTreemap\u001b[0m\u001b[1;33m,\u001b[0m \u001b[0mgo\u001b[0m\u001b[1;33m.\u001b[0m\u001b[0mSunburst\u001b[0m\u001b[1;33m]\u001b[0m \u001b[1;32mand\u001b[0m \u001b[0margs\u001b[0m\u001b[1;33m[\u001b[0m\u001b[1;34m\"path\"\u001b[0m\u001b[1;33m]\u001b[0m \u001b[1;32mis\u001b[0m \u001b[1;32mnot\u001b[0m \u001b[1;32mNone\u001b[0m\u001b[1;33m:\u001b[0m\u001b[1;33m\u001b[0m\u001b[1;33m\u001b[0m\u001b[0m\n\u001b[0;32m   1828\u001b[0m         \u001b[0margs\u001b[0m \u001b[1;33m=\u001b[0m \u001b[0mprocess_dataframe_hierarchy\u001b[0m\u001b[1;33m(\u001b[0m\u001b[0margs\u001b[0m\u001b[1;33m)\u001b[0m\u001b[1;33m\u001b[0m\u001b[1;33m\u001b[0m\u001b[0m\n",
      "\u001b[1;32mC:\\ProgramData\\Anaconda3\\lib\\site-packages\\plotly\\express\\_core.py\u001b[0m in \u001b[0;36mbuild_dataframe\u001b[1;34m(args, constructor)\u001b[0m\n\u001b[0;32m   1356\u001b[0m     \u001b[1;31m# now that things have been prepped, we do the systematic rewriting of `args`\u001b[0m\u001b[1;33m\u001b[0m\u001b[1;33m\u001b[0m\u001b[1;33m\u001b[0m\u001b[0m\n\u001b[0;32m   1357\u001b[0m \u001b[1;33m\u001b[0m\u001b[0m\n\u001b[1;32m-> 1358\u001b[1;33m     df_output, wide_id_vars = process_args_into_dataframe(\n\u001b[0m\u001b[0;32m   1359\u001b[0m         \u001b[0margs\u001b[0m\u001b[1;33m,\u001b[0m \u001b[0mwide_mode\u001b[0m\u001b[1;33m,\u001b[0m \u001b[0mvar_name\u001b[0m\u001b[1;33m,\u001b[0m \u001b[0mvalue_name\u001b[0m\u001b[1;33m\u001b[0m\u001b[1;33m\u001b[0m\u001b[0m\n\u001b[0;32m   1360\u001b[0m     )\n",
      "\u001b[1;32mC:\\ProgramData\\Anaconda3\\lib\\site-packages\\plotly\\express\\_core.py\u001b[0m in \u001b[0;36mprocess_args_into_dataframe\u001b[1;34m(args, wide_mode, var_name, value_name)\u001b[0m\n\u001b[0;32m   1162\u001b[0m                         \u001b[1;32mif\u001b[0m \u001b[0margument\u001b[0m \u001b[1;33m==\u001b[0m \u001b[1;34m\"index\"\u001b[0m\u001b[1;33m:\u001b[0m\u001b[1;33m\u001b[0m\u001b[1;33m\u001b[0m\u001b[0m\n\u001b[0;32m   1163\u001b[0m                             \u001b[0merr_msg\u001b[0m \u001b[1;33m+=\u001b[0m \u001b[1;34m\"\\n To use the index, pass it in directly as `df.index`.\"\u001b[0m\u001b[1;33m\u001b[0m\u001b[1;33m\u001b[0m\u001b[0m\n\u001b[1;32m-> 1164\u001b[1;33m                         \u001b[1;32mraise\u001b[0m \u001b[0mValueError\u001b[0m\u001b[1;33m(\u001b[0m\u001b[0merr_msg\u001b[0m\u001b[1;33m)\u001b[0m\u001b[1;33m\u001b[0m\u001b[1;33m\u001b[0m\u001b[0m\n\u001b[0m\u001b[0;32m   1165\u001b[0m                 \u001b[1;32melif\u001b[0m \u001b[0mlength\u001b[0m \u001b[1;32mand\u001b[0m \u001b[0mlen\u001b[0m\u001b[1;33m(\u001b[0m\u001b[0mdf_input\u001b[0m\u001b[1;33m[\u001b[0m\u001b[0margument\u001b[0m\u001b[1;33m]\u001b[0m\u001b[1;33m)\u001b[0m \u001b[1;33m!=\u001b[0m \u001b[0mlength\u001b[0m\u001b[1;33m:\u001b[0m\u001b[1;33m\u001b[0m\u001b[1;33m\u001b[0m\u001b[0m\n\u001b[0;32m   1166\u001b[0m                     raise ValueError(\n",
      "\u001b[1;31mValueError\u001b[0m: Value of 'color' is not the name of a column in 'data_frame'. Expected one of ['FLIGHT_ID', 'TIME_OFFSET_liftoff', 'P64: Duration of Takeoff (Seconds)', 'TIME_ON_GROUND_BEFORE_LIFTOFF_(SECONDS)', 'P64: Duration of Taxi Out (Minutes)', 'DURATION', 'SPEED_SOUND_START_EVENT', 'HEAD_WIND_liftoff', 'MSL_ALT', 'AFE_ALT', 'TAS_START_EVENT', 'P64: True Airspeed at Liftoff (knots)', 'MACH_NUMBER_START_EVENT', 'GS_SEGMENT', 'TAS_SEGMENT', 'MACH_NUMBER_SEGMENT', 'DRAG', 'LIFT', 'LAT', 'LON', 'DISTANCE_START_EVENT', 'DISTANCE_END_EVENT', 'FUEL_QUANTITY_KILOGRAMS_liftoff', 'FUELFLOW_START_EVENT', 'FUELFLOW_SEGMENT', 'N1', 'THRUST_START_EVENT', 'THRUST_SEGMENT', 'LIFTOFF', 'APT_CODE', 'Takeoff Runway Starting Latitude', 'Takeoff Runway Starting Longitude', 'DISTANCE_FROM_RUNWAY_END_liftoff', 'DISTANCE_FROM_RUNWAY_END_AT_DETECTED_LIFTOFF', 'FLIGHT_ID.1', 'APT_AIRCRAFT_RUNWAY_STAGE', 'SHARE_OF_REMAINING_RUNWAY_LENGTH_AT_DETECTED_AIRBORNE_POINT_IN_RUNWAY_VICINITY', 'FEET_OF_REMAINING_RUNWAY_LENGTH_AT_DETECTED_AIRBORNE_POINT_IN_RUNWAY_VICINITY', 'DISTANCE_FROM_RUNWAY_END.1', 'RUNWAY_LENGTH', 'DISPLACED_THRESHOLD', 'DEPARTURE_AIRPORT_CODE', 'ACTYPE', 'RUNWAY_END', 'STAGE_LENGTH_ID', 'EFFECTIVE_RUNWAY_LENGTH', 'SHARE_OF_REMAINING_EFFECTIVE_RUNWAY_LENGTH_AT_DETECTED_AIRBORNE_POINT_IN_RUNWAY_VICINITY', 'FEET_OF_REMAINING_EFFECTIVE_RUNWAY_LENGTH_AT_DETECTED_AIRBORNE_POINT_IN_RUNWAY_VICINITY', 'LATITUDE_AT_POINT_ONE', 'LONGITUDE_AT_POINT_ONE', 'LATITUDE_AT_DETECTED_AIRBORNE_POINT_IN_RUNWAY_VICINITY', 'LONGITUDE_AT_DETECTED_AIRBORNE_POINT_IN_RUNWAY_VICINITY', 'ACTYPE.1', 'APT_AIRCRAFT_RUNWAY_STAGE.1_liftoff', 'STAGE_LENGTH_ID.1', 'Detected_Trajectory_Mode', 'TIME_OFFSET_rollstart', 'HEAD_WIND_rollstart', 'FUEL_QUANTITY_KILOGRAMS_rollstart', 'STATED_SEGMENT_START_OF_TAKEOFF', 'DISTANCE_FROM_RUNWAY_END_rollstart', 'DISTANCE_FROM_RUNWAY_END_AT_DETECTED_START_OF_TAKEOFF', 'DISTANCE_FROM_THRESHOLD_AT_POINT_ONE', 'DISTANCE_FROM_POINT_ONE_FEET', 'GROUNDSPEED_AT_POINT_ONE_KNOTS', 'WELL-BEHAVED_TRAJECTORY', 'APT_AIRCRAFT_RUNWAY_STAGE.1_rollstart', 'TAKEOFF_GROUND_ROLL_DISTANCE_DETECTED_IN_FEET', 'liftoff_detection_quality', 'very_high_liftoff_detection_quality', 'N1_during_detected_takeoff_ground_roll', 'FUEL_ROLL_BIN', 'HEADWIND_LFTFF_BIN'] but received: APT_AIRCRAFT_RUNWAY_STAGE.1"
     ]
    }
   ],
   "source": [
    "x_max = stated_max = df_schedule.DISTANCE_FROM_RUNWAY_END_liftoff.max()\n",
    "x_min = stated_min = df_schedule.DISTANCE_FROM_RUNWAY_END_liftoff.min()\n",
    "y_max = detected_max = df_schedule.DISTANCE_FROM_RUNWAY_END_AT_DETECTED_LIFTOFF.max()\n",
    "y_min = detected_min = df_schedule.DISTANCE_FROM_RUNWAY_END_AT_DETECTED_LIFTOFF.min()\n",
    "\n",
    "perfect_fit_min = x_min if x_min < y_min else y_min\n",
    "perfect_fit_max = x_max if x_max > y_max else y_max\n",
    "\n",
    "fig = px.scatter(\n",
    "    df_schedule.reset_index(level = 0)\n",
    "    , title='Liftoff distance from runway end (feet)'\n",
    "    , x='DISTANCE_FROM_RUNWAY_END_liftoff'\n",
    "    ,y='DISTANCE_FROM_RUNWAY_END_AT_DETECTED_LIFTOFF'\n",
    "    , color=\"APT_AIRCRAFT_RUNWAY_STAGE.1\" \n",
    "    , labels = {'DISTANCE_FROM_RUNWAY_END_liftoff':'As stated in CFDR',\n",
    "                'DISTANCE_FROM_RUNWAY_END_AT_DETECTED_LIFTOFF':'As detected from trajectory',\n",
    "                'APT_AIRCRAFT_RUNWAY_STAGE': 'Airport / Aicraft Type / Runway / Stage Length ID'\n",
    "               }\n",
    "    , hover_data= ['FLIGHT_ID']#, 'DISTANCE_FROM_RUNWAY_END', 'DISTANCE_FROM_RUNWAY_END_AT_DETECTED_LIFTOFF']\n",
    ")\n",
    "\n",
    "fig.add_trace(\n",
    "    go.Scatter(\n",
    "        x = [perfect_fit_min, perfect_fit_max]\n",
    "        , y = [perfect_fit_min, perfect_fit_max]\n",
    "        , mode = \"lines\"\n",
    "        , name = 'Perfect Fit'\n",
    "        , line = go.scatter.Line(color = 'black', dash = 'dash')\n",
    "        , opacity=0.4\n",
    "    )\n",
    ")\n",
    "\n",
    "fig.add_trace(\n",
    "    go.Scatter(\n",
    "        x = [perfect_fit_min, perfect_fit_max]\n",
    "        , y = [perfect_fit_min+275, perfect_fit_max+275]\n",
    "        , mode = \"lines\"\n",
    "        , name = 'Perfect Fit + 275 ft'\n",
    "        , line = go.scatter.Line(color = 'black', dash = 'longdash')\n",
    "        , opacity=0.4\n",
    "    )\n",
    "\n",
    ")\n",
    "\n",
    "fig.add_trace(\n",
    "    go.Scatter(\n",
    "        x = [perfect_fit_min, perfect_fit_max]\n",
    "        , y = [perfect_fit_min+550, perfect_fit_max+550]\n",
    "        , mode = \"lines\"\n",
    "        , name = 'Perfect Fit + 550 ft'\n",
    "        , line = go.scatter.Line(color = 'black', dash = 'longdashdot')\n",
    "        , opacity=0.4\n",
    "    )\n",
    "\n",
    ")\n",
    "\n",
    "fig.update_yaxes(\n",
    "#     scaleanchor = \"x\",\n",
    "    scaleratio = 1,\n",
    "  )\n",
    "\n",
    "fig.show()\n",
    "\n",
    "file = fig.to_html()\n",
    "with open(filepath+'\\plot_liftoff.html', 'w') as f:\n",
    "    f.write(file)\n",
    "    "
   ]
  },
  {
   "cell_type": "code",
   "execution_count": null,
   "metadata": {},
   "outputs": [],
   "source": [
    "#two flights with similar stated liftoff point \n",
    "flights = [1128101, 1124373]\n",
    "plot_metrics_for_individual_flights(df.loc[flights,])\n"
   ]
  },
  {
   "cell_type": "code",
   "execution_count": null,
   "metadata": {},
   "outputs": [],
   "source": [
    "fig = px.scatter(\n",
    "    df_rollstart\n",
    "    , title='Start of takeoff roll, distance from runway end (feet)'\n",
    "    , x='DISTANCE_FROM_RUNWAY_END'\n",
    "    , y='DISTANCE_FROM_RUNWAY_END_AT_DETECTED_START_OF_TAKEOFF'\n",
    "    , color=\"APT_AIRCRAFT_RUNWAY_STAGE.1\" \n",
    "    , labels = {'DISTANCE_FROM_RUNWAY_END':'As stated in CFDR',\n",
    "                'DISTANCE_FROM_RUNWAY_END_AT_DETECTED_START_OF_TAKEOFF':'As detected from trajectory',\n",
    "                'APT_AIRCRAFT_RUNWAY_STAGE.1': 'Airport / Aicraft Type / Runway / Stage Length ID'\n",
    "               }\n",
    ")\n",
    "\n",
    "fig.update_yaxes(\n",
    "    scaleanchor = \"x\",\n",
    "    scaleratio = 1,\n",
    "  )\n",
    "\n",
    "fig.show()\n",
    "\n",
    "file = fig.to_html()\n",
    "with open(filepath+'\\plot_rollstart.html', 'w') as f:\n",
    "    f.write(file)"
   ]
  },
  {
   "cell_type": "code",
   "execution_count": null,
   "metadata": {},
   "outputs": [],
   "source": [
    "fig_px = px.scatter(\n",
    "    df_liftoff\n",
    "    , title='Liftoff distance from runway end (feet)'\n",
    "    , x='DISTANCE_FROM_RUNWAY_END'\n",
    "    ,y='MSL_ALT'\n",
    "    , color = \"FLIGHT_ID\"\n",
    "    , labels = {'DISTANCE_FROM_RUNWAY_END':'Distance from runway end (feet)',\n",
    "                'MSL_ALT':'Altitude above mean sea level (feet)',\n",
    "                'APT_AIRCRAFT_RUNWAY_STAGE.1': 'Airport / Aicraft Type / Runway / Stage Length ID'\n",
    "               }\n",
    ")\n",
    "\n",
    "file = fig_px.to_html()\n",
    "with open(filepath+'\\plot_high_quality_by_flight.html', 'w') as f:\n",
    "    f.write(file)\n",
    "    \n",
    "fig_px.show()"
   ]
  }
 ],
 "metadata": {
  "kernelspec": {
   "display_name": "Python 3",
   "language": "python",
   "name": "python3"
  },
  "language_info": {
   "codemirror_mode": {
    "name": "ipython",
    "version": 3
   },
   "file_extension": ".py",
   "mimetype": "text/x-python",
   "name": "python",
   "nbconvert_exporter": "python",
   "pygments_lexer": "ipython3",
   "version": "3.8.3"
  }
 },
 "nbformat": 4,
 "nbformat_minor": 4
}
